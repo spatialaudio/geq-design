{
 "cells": [
  {
   "cell_type": "code",
   "execution_count": 1,
   "id": "83bc6eaa",
   "metadata": {},
   "outputs": [],
   "source": [
    "import numpy as np\n",
    "\n",
    "# save numpy array as csv file\n",
    "from numpy import asarray\n",
    "from numpy import savetxt"
   ]
  },
  {
   "cell_type": "code",
   "execution_count": 2,
   "id": "1099a62f",
   "metadata": {},
   "outputs": [],
   "source": [
    "def createInputData():\n",
    "    \n",
    "    data = np.random.uniform(-12,12,size=(18000,31))\n",
    "    dataInt1 = ((2*np.random.randint(0,2,size=(1000,31))-1))*12\n",
    "    dataInt2 = ((2*np.random.randint(0,2,size=(1000,31))-1))*12\n",
    "    dataInt3 = np.random.randint(-1, 2, (1000, 31))*12\n",
    "    dataInt4 = np.random.randint(-1, 2, (1000, 31))*12\n",
    "    a1 = np.array([12,12,12,12,12,12,12,12,12,12,12,12,12,12,12,12,12,12,12,12,12,12,12,12,12,12,12,12,12,12,12]).reshape(31,1)    \n",
    "    a2 = np.array([-12,-12,-12,-12,-12,-12,-12,-12,-12,-12,-12,-12,-12,-12,-12,-12,-12,-12,-12,-12,-12,-12,-12,-12,-12,-12,-12,-12,-12,-12,-12]).reshape(31,1)    \n",
    "    a3 = np.array([12,-12,12,-12,12,-12,12,-12,12,-12,12,-12,12,-12,12,-12,12,-12,12,-12,12,-12,12,-12,12,-12,12,-12,12,-12,12]).reshape(31,1)\n",
    "    a4 = np.array([-12,12,-12,12,-12,12,-12,12,-12,12,-12,12,-12,12,-12,12,-12,12,-12,12,-12,12,-12,12,-12,12,-12,12,-12,12,-12]).reshape(31,1)  \n",
    "    a5 = np.array([12,-12,-12,-12,12,12,12,-12,-12,-12,12,12,12,-12,-12,-12,12,12,12,-12,-12,-12,12,12,12,-12,-12,-12,12,12,12]).reshape(31,1)  \n",
    "    a6 = np.array([-12,12,12,12,-12,-12,-12,12,12,12,-12,-12,-12,12,12,12,-12,-12,-12,12,12,12,-12,-12,-12,12,12,12,-12,-12,-12]).reshape(31,1)  \n",
    "    a = np.array([[a1],[a2],[a3],[a4],[a5],[a6]]).reshape(6,31)\n",
    "    \n",
    "    data = np.r_[a,dataInt1,dataInt3,data,dataInt2,dataInt4,a]\n",
    "    \n",
    "    return data"
   ]
  },
  {
   "cell_type": "code",
   "execution_count": 3,
   "id": "5ae2674b",
   "metadata": {},
   "outputs": [],
   "source": [
    "\n",
    "# define data\n",
    "data = asarray(createInputData(), dtype=np.float64,)\n",
    "# save to csv file\n",
    "savetxt('dataInputLarge2.csv', data, delimiter=',')"
   ]
  },
  {
   "cell_type": "code",
   "execution_count": null,
   "id": "97867eaa",
   "metadata": {},
   "outputs": [],
   "source": []
  }
 ],
 "metadata": {
  "kernelspec": {
   "display_name": "Python 3",
   "language": "python",
   "name": "python3"
  },
  "language_info": {
   "codemirror_mode": {
    "name": "ipython",
    "version": 3
   },
   "file_extension": ".py",
   "mimetype": "text/x-python",
   "name": "python",
   "nbconvert_exporter": "python",
   "pygments_lexer": "ipython3",
   "version": "3.8.8"
  }
 },
 "nbformat": 4,
 "nbformat_minor": 5
}
