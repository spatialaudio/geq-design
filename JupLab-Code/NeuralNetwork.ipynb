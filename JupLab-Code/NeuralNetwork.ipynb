{
 "cells": [
  {
   "cell_type": "code",
   "execution_count": 1,
   "id": "d5a13f98",
   "metadata": {},
   "outputs": [],
   "source": [
    "import numpy as np\n",
    "import tensorflow as tf\n",
    "from sklearn.preprocessing import MinMaxScaler\n",
    "from sklearn.model_selection import GridSearchCV\n",
    "from sklearn.metrics import make_scorer\n",
    "from sklearn.metrics import accuracy_score, precision_score, recall_score\n",
    "import time\n",
    "import datetime\n",
    "\n",
    "#HP Tuning\n",
    "from tensorboard.plugins.hparams import api as hp\n",
    "\n",
    "%load_ext tensorboard"
   ]
  },
  {
   "cell_type": "code",
   "execution_count": 2,
   "id": "ee7345ae",
   "metadata": {},
   "outputs": [],
   "source": [
    "InputData = np.loadtxt(\"Data/dataInputLarge.csv\",delimiter=\",\")\n",
    "OutputData = np.loadtxt (\"Data/dataOutputLarge.csv\", delimiter=\",\")\n",
    "\n",
    "InputDataSmall = np.loadtxt(\"Data/dataInput2.csv\",delimiter=\",\")\n",
    "OutputDataSmall = np.loadtxt (\"Data/dataOutput2.csv\", delimiter=\",\")\n",
    "\n",
    "InputDataLarge = np.loadtxt(\"Data/dataInputLarge2.csv\",delimiter=\",\")\n",
    "OutputDataLarge = np.loadtxt (\"Data/dataOutputLarge2.csv\", delimiter=\",\")\n",
    "\n"
   ]
  },
  {
   "cell_type": "code",
   "execution_count": null,
   "id": "1ca9b0a8-8a94-4f79-9dbd-43291fe4c3cc",
   "metadata": {},
   "outputs": [],
   "source": []
  },
  {
   "cell_type": "code",
   "execution_count": 3,
   "id": "b0de1559",
   "metadata": {},
   "outputs": [],
   "source": [
    "InputDataTrain = InputData[0:9000]  \n",
    "InputDataTest = InputData[9000:11006]  \n",
    "OutputDataTrain = OutputData[0:9000] \n",
    "OutputDataTest = OutputData[9000:11006]\n",
    "\n",
    "InputDataTrainS = InputDataSmall[0:900]  \n",
    "InputDataTestS = InputDataSmall[900:1106]  \n",
    "OutputDataTrainS = OutputDataSmall[0:900] \n",
    "OutputDataTestS = OutputDataSmall[900:1106]\n",
    "\n",
    "InputDataTrainL = InputDataLarge[0:18000]  \n",
    "InputDataTestL = InputDataLarge[18000:22012]  \n",
    "OutputDataTrainL = OutputDataLarge[0:18000] \n",
    "OutputDataTestL = OutputDataLarge[18000:22012]"
   ]
  },
  {
   "cell_type": "code",
   "execution_count": 4,
   "id": "48ca1eaa-249d-4e1d-9e81-9d9695d29110",
   "metadata": {},
   "outputs": [],
   "source": [
    "scaler = MinMaxScaler(feature_range=(0, 1))\n",
    "\n",
    "InputDataTrain_transformed = scaler.fit_transform(InputDataTrain) \n",
    "#InputDataTrain_retransformed = scaler.inverse_transform(InputDataTrain_transformed)\n",
    "InputDataTest_transformed = scaler.fit_transform(InputDataTest)\n",
    "#InputDataTest_retransformed = scaler.inverse_transform(InputDataTest_transformed)\n",
    "OutputDataTrain_transformed = scaler.fit_transform(OutputDataTrain)\n",
    "#OutputDataTrain_retransformed = scaler.inverse_transform(OutputDataTrain_transformed)\n",
    "OutputDataTest_transformed = scaler.fit_transform(OutputDataTest)\n",
    "#OutputDataTest_retransformed = scaler.inverse_transform(OutputDataTest_transformed)         \n",
    "\n",
    "\n",
    "InputDataTrainS_transformed = scaler.fit_transform(InputDataTrainS) \n",
    "InputDataTestS_transformed = scaler.fit_transform(InputDataTestS)\n",
    "OutputDataTrainS_transformed = scaler.fit_transform(OutputDataTrainS)\n",
    "OutputDataTestS_transformed = scaler.fit_transform(OutputDataTestS)\n",
    "\n",
    "InputDataTrainL_transformed = scaler.fit_transform(InputDataTrainL) \n",
    "\n",
    "InputDataTrainL_retransformed =  scaler.inverse_transform(InputDataTrainL_transformed)\n",
    "\n",
    "InputDataTestL_transformed = scaler.fit_transform(InputDataTestL)\n",
    "InputDataTestL_retransformed = scaler.inverse_transform(InputDataTestL_transformed)\n",
    "OutputDataTrainL_transformed = scaler.fit_transform(OutputDataTrainL)\n",
    "OutputDataTestL_transformed = scaler.fit_transform(OutputDataTestL)\n",
    "OutputDataTestL_retransformed = scaler.inverse_transform(OutputDataTestL_transformed)  "
   ]
  },
  {
   "cell_type": "code",
   "execution_count": 5,
   "id": "190f40b1",
   "metadata": {},
   "outputs": [],
   "source": [
    "def create_model() :\n",
    "    return tf.keras.models.Sequential([\n",
    "      tf.keras.layers.Dense(62,input_shape = (31,),activation='relu'),\n",
    "      tf.keras.layers.Dense(62,activation=\"relu\"),\n",
    "      tf.keras.layers.Dense(31,activation=\"linear\"),\n",
    "    ])"
   ]
  },
  {
   "cell_type": "code",
   "execution_count": 3,
   "id": "2652e4d7",
   "metadata": {
    "tags": []
   },
   "outputs": [
    {
     "ename": "JSONDecodeError",
     "evalue": "Expecting value: line 1 column 1 (char 0)",
     "output_type": "error",
     "traceback": [
      "\u001b[0;31m---------------------------------------------------------------------------\u001b[0m\n\u001b[0;31mJSONDecodeError\u001b[0m                           Traceback (most recent call last)",
      "File \u001b[0;34mC:\\Users\\Robert\\anaconda3\\envs\\ml\\lib\\site-packages\\IPython\\core\\interactiveshell.py\u001b[0m, in \u001b[0;32mrun_code\u001b[0m:\nLine \u001b[0;34m3437\u001b[0m:  exec(code_obj, \u001b[36mself\u001b[39;49;00m.user_global_ns, \u001b[36mself\u001b[39;49;00m.user_ns)\n",
      "In  \u001b[0;34m[3]\u001b[0m:\nLine \u001b[0;34m4\u001b[0m:     model_load = tf.keras.models.load_model(\u001b[33m\"\u001b[39;49;00m\u001b[33mModels/vscModel\u001b[39;49;00m\u001b[33m\"\u001b[39;49;00m)\n",
      "File \u001b[0;34mC:\\Users\\Robert\\anaconda3\\envs\\ml\\lib\\site-packages\\tensorflow\\python\\keras\\saving\\save.py\u001b[0m, in \u001b[0;32mload_model\u001b[0m:\nLine \u001b[0;34m187\u001b[0m:   \u001b[34mreturn\u001b[39;49;00m saved_model_load.load(filepath, \u001b[36mcompile\u001b[39;49;00m, options)\n",
      "File \u001b[0;34mC:\\Users\\Robert\\anaconda3\\envs\\ml\\lib\\site-packages\\tensorflow\\python\\keras\\saving\\saved_model\\load.py\u001b[0m, in \u001b[0;32mload\u001b[0m:\nLine \u001b[0;34m120\u001b[0m:   model = tf_load.load_internal(\n",
      "File \u001b[0;34mC:\\Users\\Robert\\anaconda3\\envs\\ml\\lib\\site-packages\\tensorflow\\python\\saved_model\\load.py\u001b[0m, in \u001b[0;32mload_internal\u001b[0m:\nLine \u001b[0;34m632\u001b[0m:   loader = loader_cls(object_graph_proto, saved_model_proto, export_dir,\n",
      "File \u001b[0;34mC:\\Users\\Robert\\anaconda3\\envs\\ml\\lib\\site-packages\\tensorflow\\python\\keras\\saving\\saved_model\\load.py\u001b[0m, in \u001b[0;32m__init__\u001b[0m:\nLine \u001b[0;34m194\u001b[0m:   \u001b[36msuper\u001b[39;49;00m(KerasObjectLoader, \u001b[36mself\u001b[39;49;00m).\u001b[32m__init__\u001b[39;49;00m(*args, **kwargs)\n",
      "File \u001b[0;34mC:\\Users\\Robert\\anaconda3\\envs\\ml\\lib\\site-packages\\tensorflow\\python\\saved_model\\load.py\u001b[0m, in \u001b[0;32m__init__\u001b[0m:\nLine \u001b[0;34m130\u001b[0m:   \u001b[36mself\u001b[39;49;00m._load_all()\n",
      "File \u001b[0;34mC:\\Users\\Robert\\anaconda3\\envs\\ml\\lib\\site-packages\\tensorflow\\python\\keras\\saving\\saved_model\\load.py\u001b[0m, in \u001b[0;32m_load_all\u001b[0m:\nLine \u001b[0;34m215\u001b[0m:   \u001b[36mself\u001b[39;49;00m._layer_nodes = \u001b[36mself\u001b[39;49;00m._load_layers()\n",
      "File \u001b[0;34mC:\\Users\\Robert\\anaconda3\\envs\\ml\\lib\\site-packages\\tensorflow\\python\\keras\\saving\\saved_model\\load.py\u001b[0m, in \u001b[0;32m_load_layers\u001b[0m:\nLine \u001b[0;34m315\u001b[0m:   layers[node_id] = \u001b[36mself\u001b[39;49;00m._load_layer(proto.user_object, node_id)\n",
      "File \u001b[0;34mC:\\Users\\Robert\\anaconda3\\envs\\ml\\lib\\site-packages\\tensorflow\\python\\keras\\saving\\saved_model\\load.py\u001b[0m, in \u001b[0;32m_load_layer\u001b[0m:\nLine \u001b[0;34m323\u001b[0m:   metadata = json_utils.decode(proto.metadata)\n",
      "File \u001b[0;34mC:\\Users\\Robert\\anaconda3\\envs\\ml\\lib\\site-packages\\tensorflow\\python\\keras\\saving\\saved_model\\json_utils.py\u001b[0m, in \u001b[0;32mdecode\u001b[0m:\nLine \u001b[0;34m60\u001b[0m:    \u001b[34mreturn\u001b[39;49;00m json.loads(json_string, object_hook=_decode_helper)\n",
      "File \u001b[0;34mC:\\Users\\Robert\\anaconda3\\envs\\ml\\lib\\json\\__init__.py\u001b[0m, in \u001b[0;32mloads\u001b[0m:\nLine \u001b[0;34m370\u001b[0m:   \u001b[34mreturn\u001b[39;49;00m \u001b[36mcls\u001b[39;49;00m(**kw).decode(s)\n",
      "File \u001b[0;34mC:\\Users\\Robert\\anaconda3\\envs\\ml\\lib\\json\\decoder.py\u001b[0m, in \u001b[0;32mdecode\u001b[0m:\nLine \u001b[0;34m337\u001b[0m:   obj, end = \u001b[36mself\u001b[39;49;00m.raw_decode(s, idx=_w(s, \u001b[34m0\u001b[39;49;00m).end())\n",
      "File \u001b[0;34mC:\\Users\\Robert\\anaconda3\\envs\\ml\\lib\\json\\decoder.py\u001b[0m, in \u001b[0;32mraw_decode\u001b[0m:\nLine \u001b[0;34m355\u001b[0m:   \u001b[34mraise\u001b[39;49;00m JSONDecodeError(\u001b[33m\"\u001b[39;49;00m\u001b[33mExpecting value\u001b[39;49;00m\u001b[33m\"\u001b[39;49;00m, s, err.value) \u001b[34mfrom\u001b[39;49;00m \u001b[36mNone\u001b[39;49;00m\n",
      "\u001b[0;31mJSONDecodeError\u001b[0m: Expecting value: line 1 column 1 (char 0)\n\u001b[0;31m---------------------------------------------------------------------------\u001b[0m"
     ]
    }
   ],
   "source": [
    "#modelName =\"Model\"\n",
    "#modelName =\"ModelLarge\"\n",
    "\n",
    "model_load = tf.keras.models.load_model(\"Models/vscModel\")"
   ]
  },
  {
   "cell_type": "code",
   "execution_count": 7,
   "id": "6a55ede1-d5ce-428d-a356-fc9683d1b1c4",
   "metadata": {
    "tags": []
   },
   "outputs": [],
   "source": [
    "#model = create_model()\n",
    "model = model_load"
   ]
  },
  {
   "cell_type": "code",
   "execution_count": 8,
   "id": "fab4170c",
   "metadata": {
    "tags": []
   },
   "outputs": [
    {
     "name": "stdout",
     "output_type": "stream",
     "text": [
      "Model: \"sequential_171\"\n",
      "_________________________________________________________________\n",
      "Layer (type)                 Output Shape              Param #   \n",
      "=================================================================\n",
      "dense_536 (Dense)            (None, 6200)              198400    \n",
      "_________________________________________________________________\n",
      "dense_537 (Dense)            (None, 31)                192231    \n",
      "=================================================================\n",
      "Total params: 390,631\n",
      "Trainable params: 390,631\n",
      "Non-trainable params: 0\n",
      "_________________________________________________________________\n"
     ]
    },
    {
     "data": {
      "text/plain": [
       "(None, 31)"
      ]
     },
     "execution_count": 8,
     "metadata": {},
     "output_type": "execute_result"
    }
   ],
   "source": [
    "model.summary()\n",
    "model.output_shape\n",
    "#model.layers[1].get_config()"
   ]
  },
  {
   "cell_type": "code",
   "execution_count": 9,
   "id": "fd534e56-7280-4270-9d4a-777a2b3c2803",
   "metadata": {},
   "outputs": [],
   "source": [
    "model.compile(optimizer='adam',\n",
    "              loss=tf.keras.losses.MeanSquaredError(),\n",
    "              metrics=['accuracy'])\n",
    "\n",
    "log_dir = \"logs/fit/\" + datetime.datetime.now().strftime(\"%Y%m%d-%H%M%S\")\n",
    "tensorboard_callback = tf.keras.callbacks.TensorBoard(log_dir=log_dir, histogram_freq=1)"
   ]
  },
  {
   "cell_type": "code",
   "execution_count": 24,
   "id": "f46d4642-65ad-477e-be50-7099f423423a",
   "metadata": {
    "tags": []
   },
   "outputs": [
    {
     "data": {
      "text/plain": [
       "<tensorflow.python.keras.callbacks.History at 0x21ded097b80>"
      ]
     },
     "execution_count": 24,
     "metadata": {},
     "output_type": "execute_result"
    }
   ],
   "source": [
    "model.fit(x=InputDataTrain_transformed, \n",
    "          y=OutputDataTrain_transformed, \n",
    "          epochs=200,\n",
    "          batch_size = 200,\n",
    "          validation_data=(InputDataTest_transformed, OutputDataTest_transformed), \n",
    "          verbose = 0,\n",
    "          #callbacks=[tensorboard_callback]\n",
    "         )"
   ]
  },
  {
   "cell_type": "code",
   "execution_count": 25,
   "id": "a637ce61-ec4e-423d-98e1-c6d8f0376eb5",
   "metadata": {},
   "outputs": [
    {
     "name": "stdout",
     "output_type": "stream",
     "text": [
      "\n",
      " 1/63 [..............................] - ETA: 0s - loss: 1.6826e-04 - accuracy: 0.9062\n",
      "63/63 [==============================] - 0s 560us/step - loss: 7.9384e-04 - accuracy: 0.8175\n",
      "Test loss, Test acc: [0.0007938429480418563, 0.8175473809242249]\n"
     ]
    }
   ],
   "source": [
    "results = model.evaluate(InputDataTest_transformed,OutputDataTest_transformed)\n",
    "print(\"Test loss, Test acc:\", results)"
   ]
  },
  {
   "cell_type": "code",
   "execution_count": 26,
   "id": "b5e82ac6",
   "metadata": {
    "tags": []
   },
   "outputs": [
    {
     "data": {
      "text/plain": [
       "<tensorflow.python.keras.callbacks.History at 0x21ded385250>"
      ]
     },
     "execution_count": 26,
     "metadata": {},
     "output_type": "execute_result"
    }
   ],
   "source": [
    "model.fit(x=InputDataTrainS_transformed, \n",
    "          y=OutputDataTrainS_transformed, \n",
    "          epochs=1000,\n",
    "          batch_size = 200,\n",
    "          validation_data=(InputDataTestS_transformed, OutputDataTestS_transformed), \n",
    "          verbose = 0,\n",
    "          #callbacks=[tensorboard_callback]\n",
    "         )"
   ]
  },
  {
   "cell_type": "code",
   "execution_count": 27,
   "id": "0023f95a-85b5-444f-98b0-a55b6295033f",
   "metadata": {
    "tags": []
   },
   "outputs": [
    {
     "name": "stdout",
     "output_type": "stream",
     "text": [
      "\n",
      " 1/63 [..............................] - ETA: 0s - loss: 3.3692e-04 - accuracy: 0.8438\n",
      "63/63 [==============================] - 0s 587us/step - loss: 0.0012 - accuracy: 0.8036\n",
      "Test loss, Test acc: [0.0012068396899849176, 0.8035892248153687]\n"
     ]
    }
   ],
   "source": [
    "results = model.evaluate(InputDataTest_transformed,OutputDataTest_transformed)\n",
    "print(\"Test loss, Test acc:\", results)"
   ]
  },
  {
   "cell_type": "code",
   "execution_count": 28,
   "id": "ec5631fa-c8eb-488c-8707-9b46feba9753",
   "metadata": {},
   "outputs": [
    {
     "data": {
      "text/plain": [
       "<tensorflow.python.keras.callbacks.History at 0x21ded8a1580>"
      ]
     },
     "execution_count": 28,
     "metadata": {},
     "output_type": "execute_result"
    }
   ],
   "source": [
    "model.fit(x=InputDataTrainL_transformed, \n",
    "          y=OutputDataTrainL_transformed, \n",
    "          epochs=1000,\n",
    "          batch_size = 500,\n",
    "          validation_data=(InputDataTestL_transformed, OutputDataTestL_transformed), \n",
    "          verbose = 0,\n",
    "          #callbacks=[tensorboard_callback]\n",
    "         )"
   ]
  },
  {
   "cell_type": "code",
   "execution_count": 29,
   "id": "4119d525-751b-4556-ac09-e06eca02ff7e",
   "metadata": {},
   "outputs": [
    {
     "name": "stdout",
     "output_type": "stream",
     "text": [
      "\n",
      " 1/63 [..............................] - ETA: 0s - loss: 1.5280e-04 - accuracy: 0.9688WARNING:tensorflow:Callbacks method `on_test_batch_end` is slow compared to the batch time (batch time: 0.0000s vs `on_test_batch_end` time: 0.0010s). Check your callbacks.\n",
      "\n",
      "63/63 [==============================] - 0s 510us/step - loss: 4.5774e-04 - accuracy: 0.8335\n",
      "Test loss, Test acc: [0.00045773846795782447, 0.8334994912147522]\n"
     ]
    }
   ],
   "source": [
    "results = model.evaluate(InputDataTest_transformed,OutputDataTest_transformed)\n",
    "print(\"Test loss, Test acc:\", results)\n"
   ]
  },
  {
   "cell_type": "code",
   "execution_count": 2,
   "id": "0ca017ff",
   "metadata": {
    "tags": []
   },
   "outputs": [
    {
     "name": "stdout",
     "output_type": "stream",
     "text": [
      "Launching TensorBoard...\n",
      "ERROR: Timed out waiting for TensorBoard to start. It may still be running as pid 9220.\n"
     ]
    }
   ],
   "source": [
    "%tensorboard --logdir logs --host localhost --port 6003"
   ]
  },
  {
   "cell_type": "code",
   "execution_count": 13,
   "id": "6fff2461-d96e-4c20-bffd-9fac9608efe3",
   "metadata": {
    "tags": []
   },
   "outputs": [],
   "source": [
    "%run Code.ipynb"
   ]
  },
  {
   "cell_type": "code",
   "execution_count": 21,
   "id": "bd6c4d1e-5b08-470b-a8b4-e7f031bb827b",
   "metadata": {},
   "outputs": [
    {
     "data": {
      "text/plain": [
       "array([[ 12., -12.,  12., -12.,  12., -12.,  12., -12.,  12., -12.,  12.,\n",
       "        -12.,  12., -12.,  12., -12.,  12., -12.,  12., -12.,  12., -12.,\n",
       "         12., -12.,  12., -12.,  12., -12.,  12., -12.,  12.]])"
      ]
     },
     "execution_count": 21,
     "metadata": {},
     "output_type": "execute_result"
    }
   ],
   "source": [
    "InputDataTrainL_retransformed[2:3]"
   ]
  },
  {
   "cell_type": "code",
   "execution_count": 15,
   "id": "2df3dc7e-0d34-4ff9-86eb-365d132aa45d",
   "metadata": {
    "tags": []
   },
   "outputs": [
    {
     "name": "stdout",
     "output_type": "stream",
     "text": [
      "predictions shape: (1, 31)\n",
      "InputDataTest: [[0. 1. 1. 1. 0. 0. 0. 1. 1. 1. 0. 0. 0. 1. 1. 1. 0. 0. 0. 1. 1. 1. 0. 0.\n",
      "  0. 1. 1. 1. 0. 0. 0.]]\n",
      "InputDataTest in db (Command Gains) [[-12.  12.  12.  12. -12. -12. -12.  12.  12.  12. -12. -12. -12.  12.\n",
      "   12.  12. -12. -12. -12.  12.  12.  12. -12. -12. -12.  12.  12.  12.\n",
      "  -12. -12. -12.]]\n",
      "OutputDataTest: [[0.0127431  0.79354449 0.61635357 0.79405423 0.20883644 0.38911241\n",
      "  0.2044953  0.79246282 0.60984248 0.79299105 0.2103388  0.3869003\n",
      "  0.20867506 0.79251361 0.61084695 0.79468082 0.20788832 0.38985948\n",
      "  0.20435166 0.79233877 0.61484171 0.79121814 0.21151179 0.3912551\n",
      "  0.20715985 0.78755473 0.62289564 0.81287893 0.23814399 0.36674687\n",
      "  0.08429018]]\n",
      "Predictions: [[0.9586915  0.02760983 0.95946157 0.05885313 0.9526511  0.05621229\n",
      "  0.94541776 0.04809687 0.95185065 0.05539909 0.9514058  0.05245154\n",
      "  0.94814587 0.05472778 0.9481592  0.05605498 0.94560224 0.05581859\n",
      "  0.94828093 0.04969576 0.9516028  0.05403222 0.94670063 0.04863603\n",
      "  0.95232093 0.05100511 0.9507377  0.05156732 0.95673007 0.01363403\n",
      "  0.99410206]]\n",
      "OutputDataTest in dB: [[-19.40677225  15.96981603   6.35562511  16.10242858 -16.01468431\n",
      "   -6.12539447 -16.05917527  16.07512075   6.14991993  16.08031974\n",
      "  -16.07453046  -6.14383476 -16.06073086  16.05973027   6.14357186\n",
      "   16.076621   -16.06086348  -6.14439671 -16.10946545  16.06261721\n",
      "    6.14009477  16.17636632 -15.94673397  -6.04782743 -16.13384615\n",
      "   15.76015536   6.54692207  16.49223958 -13.4026634   -6.08925683\n",
      "  -11.84168258]]\n",
      "Predictions in dB [[ 18.281643 -25.751749  25.117634 -24.406322  24.838242 -24.34558\n",
      "   24.476837 -24.760435  24.918459 -24.19132   24.675758 -24.448595\n",
      "   24.557028 -24.346289  24.73429  -24.154696  24.525694 -24.623297\n",
      "   24.435555 -24.733383  24.68642  -24.768711  24.61653  -25.073832\n",
      "   24.828758 -24.720167  24.041216 -23.667074  23.4255   -22.225924\n",
      "   14.074541]]\n",
      "Diff: [[-37.68841516  41.72156507 -18.76200871  40.50875106 -40.85292589\n",
      "   18.22018468 -40.53601243  40.83555585 -18.768539    40.27164016\n",
      "  -40.75028882  18.30476028 -40.61775867  40.40601896 -18.59071731\n",
      "   40.23131651 -40.58655737  18.47890003 -40.54501996  40.79600039\n",
      "  -18.54632568  40.94507741 -40.56326343  19.02600413 -40.96260439\n",
      "   40.48032252 -17.49429382  40.15931378 -36.82816427  16.13666671\n",
      "  -25.91622368]]\n"
     ]
    }
   ],
   "source": [
    "first = 4011\n",
    "second = 4012\n",
    "\n",
    "#predictions = model.predict(InputDataTestL_transformed[first:second])\n",
    "predictions = model.predict(InputDataTrainL_transformed[2:3])\n",
    "print(\"predictions shape:\", predictions.shape)\n",
    "print(\"InputDataTest:\",InputDataTestL_transformed[first:second])\n",
    "print(\"InputDataTest in db (Command Gains)\", InputDataTestL_retransformed[first:second])\n",
    "print(\"OutputDataTest:\",OutputDataTestL_transformed[first:second])\n",
    "print(\"Predictions:\",predictions)\n",
    "\n",
    "print(\"OutputDataTest in dB:\",scaler.inverse_transform(OutputDataTestL_transformed[first:second]))\n",
    "print(\"Predictions in dB\",scaler.inverse_transform(predictions))\n",
    "\n",
    "print(\"Diff:\", scaler.inverse_transform(OutputDataTestL_transformed[first:second])-scaler.inverse_transform(predictions))"
   ]
  },
  {
   "cell_type": "code",
   "execution_count": 16,
   "id": "61418cd9-4702-4569-9fed-77dec144822e",
   "metadata": {
    "tags": []
   },
   "outputs": [],
   "source": [
    "#commandGains = InputDataTestL_retransformed[first:second].reshape((31,1)) \n",
    "commandGains = InputDataTrainL_retransformed[2:3].reshape((31,1)) \n",
    "#print(commandGains)\n",
    "filterGainsPredicted = scaler.inverse_transform(predictions).reshape((31,1)) \n",
    "#print(filterGainsPredicted)"
   ]
  },
  {
   "cell_type": "code",
   "execution_count": 17,
   "id": "fc43973c-59f1-4a54-bfaa-634bb5e301db",
   "metadata": {
    "tags": []
   },
   "outputs": [
    {
     "name": "stderr",
     "output_type": "stream",
     "text": [
      "C:/Users/Robert/AppData/Local/Temp/xpython_11260/3688153927.py:52: FutureWarning: `rcond` parameter will change to the default of machine precision times ``max(M, N)`` where M and N are the input matrix dimensions.\n",
      "To use the future default and silence this warning we advise to pass `rcond=None`, to keep using the old, explicitly pass `rcond=-1`.\n",
      "  Gopt_db = np.linalg.lstsq(leak.conj().T, G_db2)[0]\n",
      "C:/Users/Robert/AppData/Local/Temp/xpython_11260/3527972145.py:34: VisibleDeprecationWarning: Creating an ndarray from ragged nested sequences (which is a list-or-tuple of lists-or-tuples-or ndarrays with different lengths or shapes) is deprecated. If you meant to do this, you must specify 'dtype=object' when creating the ndarray\n",
      "  num = np.array([(1+G*beta), -2*math.cos(w0), (1-G*beta)]/(1+beta))\n",
      "C:/Users/Robert/AppData/Local/Temp/xpython_11260/3527972145.py:35: VisibleDeprecationWarning: Creating an ndarray from ragged nested sequences (which is a list-or-tuple of lists-or-tuples-or ndarrays with different lengths or shapes) is deprecated. If you meant to do this, you must specify 'dtype=object' when creating the ndarray\n",
      "  den = np.array([1, -2*math.cos(w0)/(1+beta), (1-beta)/(1+beta)])\n",
      "C:/Users/Robert/AppData/Local/Temp/xpython_11260/3688153927.py:56: FutureWarning: `rcond` parameter will change to the default of machine precision times ``max(M, N)`` where M and N are the input matrix dimensions.\n",
      "To use the future default and silence this warning we advise to pass `rcond=None`, to keep using the old, explicitly pass `rcond=-1`.\n",
      "  G2opt_db = np.linalg.lstsq(leak2.conj().T, G_db2)[0] #filter gains\n",
      "C:/Users/Robert/AppData/Local/Temp/xpython_11260/3527972145.py:34: VisibleDeprecationWarning: Creating an ndarray from ragged nested sequences (which is a list-or-tuple of lists-or-tuples-or ndarrays with different lengths or shapes) is deprecated. If you meant to do this, you must specify 'dtype=object' when creating the ndarray\n",
      "  num = np.array([(1+G*beta), -2*math.cos(w0), (1-G*beta)]/(1+beta))\n",
      "C:/Users/Robert/AppData/Local/Temp/xpython_11260/3527972145.py:35: VisibleDeprecationWarning: Creating an ndarray from ragged nested sequences (which is a list-or-tuple of lists-or-tuples-or ndarrays with different lengths or shapes) is deprecated. If you meant to do this, you must specify 'dtype=object' when creating the ndarray\n",
      "  den = np.array([1, -2*math.cos(w0)/(1+beta), (1-beta)/(1+beta)])\n"
     ]
    }
   ],
   "source": [
    "thirdOctaveGEQwithPredictions(commandGains,filterGainsPredicted)"
   ]
  },
  {
   "cell_type": "code",
   "execution_count": 15,
   "id": "e6b46bc9-ee07-4431-8b0c-c9f49d2a0f91",
   "metadata": {},
   "outputs": [],
   "source": [
    "#model.save(\"Models/\"+modelName)"
   ]
  }
 ],
 "metadata": {
  "kernelspec": {
   "display_name": "Python 3.8 (XPython)",
   "language": "python",
   "name": "xpython"
  },
  "language_info": {
   "file_extension": ".py",
   "mimetype": "text/x-python",
   "name": "python",
   "version": "3.8.8"
  }
 },
 "nbformat": 4,
 "nbformat_minor": 5
}
