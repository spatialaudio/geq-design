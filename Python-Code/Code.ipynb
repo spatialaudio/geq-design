{
 "cells": [
  {
   "cell_type": "code",
   "execution_count": 1,
   "metadata": {
    "tags": []
   },
   "outputs": [],
   "source": [
    "import numpy as np\n",
    "from scipy import signal\n",
    "from pylab import *\n",
    "import matplotlib.pyplot as plt"
   ]
  },
  {
   "cell_type": "code",
   "execution_count": 25,
   "metadata": {},
   "outputs": [],
   "source": [
    "def initGEQ(G_db):\n",
    "    fs = 44.1e3\n",
    "    #fc1 = 1000 * 2 ** ( 1/3 * arange(-17,14))\n",
    "    fc1 = np.array([19.69,24.80,31.25,39.37,49.61,62.50,78.75,99.21,125.0,157.5,198.4,\n",
    "    250.0,315.0,396.9,500.0,630.0,793.7,1000,1260,1587,2000,2520,3175,4000,\n",
    "    5040,6350,8000,10080,12700,16000,20160])\n",
    "    fc2_list = [None] * (len(fc1)+len(sqrt(fc1[0:len(fc1)-1:1] * fc1[1::1])))\n",
    "    fc2_list[::2] = fc1\n",
    "    fc2_list[1::2] = sqrt(fc1[0:len(fc1)-1:1] * fc1[1::1])\n",
    "    fc2 = np.array(fc2_list)\n",
    "    wg = 2*pi*fc1/fs\n",
    "    wc = 2*pi*fc2/fs\n",
    "    c= 0.4\n",
    "    bw = np.array((2 ** (1/3) - 2 ** (-1/3)) * wg)\n",
    "    bw_adjust = 2*pi/fs\n",
    "    # Bänder aus acge3.m\n",
    "    bw[16::] = [370*bw_adjust, 466.2*bw_adjust, 587.4*bw_adjust, 740.1*bw_adjust, 932.4*bw_adjust, 1175*bw_adjust, 1480*bw_adjust, 1865*bw_adjust, 2350*bw_adjust, 2846*bw_adjust, 3502*bw_adjust, 4253*bw_adjust, 5038*bw_adjust, 5689*bw_adjust, 5570*bw_adjust]\n",
    "    #bw[::] =[9.178*bw_adjust, 11.56*bw_adjust, 14.57*bw_adjust, 18.36*bw_adjust, 23.13*bw_adjust, 29.14*bw_adjust, 36.71*bw_adjust, 46.25*bw_adjust, 58.28*bw_adjust, 73.43*bw_adjust, \n",
    "    #92.51*bw_adjust, 116.6*bw_adjust, 146.9*bw_adjust, 185.0*bw_adjust, 233.1*bw_adjust, 293.7*bw_adjust,370*bw_adjust, 466.2*bw_adjust, 587.4*bw_adjust, 740.1*bw_adjust, 932.4*bw_adjust, 1175*bw_adjust, 1480*bw_adjust, 1865*bw_adjust, 2350*bw_adjust, 2846*bw_adjust, 3502*bw_adjust, 4253*bw_adjust, 5038*bw_adjust, 5689*bw_adjust, 5570*bw_adjust]\n",
    "    # Bänder aus SGE initGEQ.m \n",
    "    #bw[16::] = [369.7*bw_adjust, 465.8*bw_adjust, 586.8*bw_adjust, 739.3*bw_adjust, 930.6*bw_adjust, 1172*bw_adjust, 1476*bw_adjust, 1857*bw_adjust, 2338*bw_adjust, 2943*bw_adjust, 3704*bw_adjust, 4638*bw_adjust, 5684*bw_adjust, 6803*bw_adjust, 4117*bw_adjust]\n",
    "    leak = interactionMatrix(10**(17/20)*np.ones(31),c,wg,wc,bw)\n",
    "\n",
    "    G_db2 = np.zeros([61,1])\n",
    "    G_db2[::2] = G_db\n",
    "    G_db2[1::2] = (G_db[:len(G_db)-1:1]+G_db[1::1])/2\n",
    "    \n",
    "    Gopt_db = np.linalg.lstsq(leak.conj().T, G_db2)[0]\n",
    "    Gopt = 10**(Gopt_db/20)\n",
    "    \n",
    "    leak2 = interactionMatrix(Gopt,c,wg,wc,bw)\n",
    "    G2opt_db = np.linalg.lstsq(leak2.conj().T, G_db2)[0]\n",
    "    G2opt = 10 **(G2opt_db/20)\n",
    "    G2wopt_db = c * G2opt_db\n",
    "    G2wopt = 10 **(G2wopt_db/20)\n",
    "    \n",
    "    numsopt = np.zeros((3,31))\n",
    "    densopt = np.zeros((3,31))\n",
    "    \n",
    "    for k in range(31):\n",
    "        [num,den] = pareq(G2opt[k],G2wopt[k],wg[k],bw[k])\n",
    "        numsopt[:,k] = num\n",
    "        densopt[:,k] = den\n",
    "        \n",
    "    \n",
    "    plot(numsopt,densopt,fs,fc2,G_db2)\n",
    "    \n",
    "    return numsopt,densopt"
   ]
  },
  {
   "cell_type": "code",
   "execution_count": 26,
   "metadata": {},
   "outputs": [],
   "source": [
    "def pareq(G, GB, w0, B):\n",
    "    if G == 1:\n",
    "        beta = tan(B/2.)\n",
    "    else: \n",
    "        beta = sqrt(abs(GB**2-1)/abs(G**2-GB**2))*tan(B/2)\n",
    "\n",
    "    num = [(1+G*beta), -2*cos(w0), (1-G*beta)]/(1+beta)\n",
    "    den = [1, -2*cos(w0)/(1+beta), (1-beta)/(1+beta)]\n",
    "    \n",
    "    return num, den"
   ]
  },
  {
   "cell_type": "code",
   "execution_count": 27,
   "metadata": {},
   "outputs": [],
   "source": [
    "def interactionMatrix(G,c,wg,wc,bw):\n",
    "\n",
    "    M = len(wg)\n",
    "    N = len(wc)\n",
    "    leak = np.zeros([M,N]) \n",
    "    Gdb = 20 * np.log10(G)\n",
    "    Gdbw = c * Gdb\n",
    "    Gw = 10 ** (Gdbw/20)\n",
    "    \n",
    "    for m in range(M):\n",
    "        [num, den] = pareq(G[m],Gw[m],wg[m],bw[m])\n",
    "        w,h = signal.freqz(num, den, wc)\n",
    "        Gain = 20*np.log10(np.abs(h))/Gdb[m]\n",
    "        leak[m,:] = np.abs(Gain)\n",
    "    return leak"
   ]
  },
  {
   "cell_type": "code",
   "execution_count": 28,
   "metadata": {},
   "outputs": [],
   "source": [
    "def plot(numsopt,densopt,fs,fc2,G_db2):\n",
    "    N_freq = 2 **12\n",
    "    w = np.logspace(np.log10(9),np.log10(22050), N_freq)\n",
    "    H_opt = np.ones((N_freq,31), dtype=complex)\n",
    "    H_opt_tot = np.ones((N_freq,1), dtype=complex)\n",
    "    \n",
    "    for k in range(31):\n",
    "        w, h = signal.freqz(numsopt[:,k], densopt[:,k],worN=w,fs=fs)\n",
    "        H_opt[:,k]= h\n",
    "        H_opt_tot = H_opt[:,[k]]  * H_opt_tot\n",
    "    \n",
    "    \n",
    "    plt.semilogx(w,20*np.log10(H_opt_tot))\n",
    "    plt.plot(fc2,G_db2, \"ro\", markersize=4, markerfacecolor=\"none\")\n",
    "    plt.ylabel(\"Magnitude [dB]\")\n",
    "    plt.xlabel(\"Frequency [Hz]\")\n",
    "    plt.title(\"Frequency response\")\n",
    "    plt.xticks([10, 30, 100, 1000, 3000, 10000])\n",
    "    plt.yticks(np.arange(-20,20,5))\n",
    "    plt.grid(which=\"both\", linestyle=\"--\", color=\"grey\")\n",
    "    plt.show()"
   ]
  },
  {
   "cell_type": "code",
   "execution_count": 29,
   "metadata": {
    "scrolled": true,
    "tags": []
   },
   "outputs": [],
   "source": [
    "input = np.array([12,5,6,9,12,12,12,12,12,12,12,12,12,12,12,12,12,12,12,12,12,12,12,12,12,12,12,12,4,6,2])\n",
    "input_alternative = np.array([12,-12,-12,12,-12,-12,12,-12,-12,12,-12,-12,12,-12,-12,12,-12,-12,12,-12,-12,12,-12,-12,12,-12,-12,12,-12,-12,12])    "
   ]
  },
  {
   "cell_type": "code",
   "execution_count": 30,
   "metadata": {
    "tags": []
   },
   "outputs": [
    {
     "name": "stderr",
     "output_type": "stream",
     "text": [
      "C:/Users/Robert/AppData/Local/Temp/xpython_15496/1632009434.py:28: FutureWarning: `rcond` parameter will change to the default of machine precision times ``max(M, N)`` where M and N are the input matrix dimensions.\n",
      "To use the future default and silence this warning we advise to pass `rcond=None`, to keep using the old, explicitly pass `rcond=-1`.\n",
      "  Gopt_db = np.linalg.lstsq(leak.conj().T, G_db2)[0]\n",
      "C:/Users/Robert/AppData/Local/Temp/xpython_15496/2647486580.py:7: VisibleDeprecationWarning: Creating an ndarray from ragged nested sequences (which is a list-or-tuple of lists-or-tuples-or ndarrays with different lengths or shapes) is deprecated. If you meant to do this, you must specify 'dtype=object' when creating the ndarray\n",
      "  num = [(1+G*beta), -2*cos(w0), (1-G*beta)]/(1+beta)\n",
      "C:\\Users\\Robert\\anaconda3\\envs\\ml\\lib\\site-packages\\numpy\\core\\_asarray.py:136: VisibleDeprecationWarning: Creating an ndarray from ragged nested sequences (which is a list-or-tuple of lists-or-tuples-or ndarrays with different lengths or shapes) is deprecated. If you meant to do this, you must specify 'dtype=object' when creating the ndarray\n",
      "  return array(a, dtype, copy=False, order=order, subok=True)\n",
      "C:/Users/Robert/AppData/Local/Temp/xpython_15496/1632009434.py:32: FutureWarning: `rcond` parameter will change to the default of machine precision times ``max(M, N)`` where M and N are the input matrix dimensions.\n",
      "To use the future default and silence this warning we advise to pass `rcond=None`, to keep using the old, explicitly pass `rcond=-1`.\n",
      "  G2opt_db = np.linalg.lstsq(leak2.conj().T, G_db2)[0]\n",
      "C:\\Users\\Robert\\anaconda3\\envs\\ml\\lib\\site-packages\\numpy\\core\\_asarray.py:83: ComplexWarning: Casting complex values to real discards the imaginary part\n",
      "  return array(a, dtype, copy=False, order=order)\n"
     ]
    }
   ],
   "source": [
    "b = initGEQ(input_alternative.reshape((-1,1)))  #reshape to make it 31x1 instead of 1x31"
   ]
  },
  {
   "cell_type": "code",
   "execution_count": null,
   "metadata": {},
   "outputs": [],
   "source": []
  }
 ],
 "metadata": {
  "kernelspec": {
   "display_name": "Python 3.8 (XPython)",
   "language": "python",
   "name": "xpython"
  },
  "language_info": {
   "file_extension": ".py",
   "mimetype": "text/x-python",
   "name": "python",
   "version": "3.8.8"
  }
 },
 "nbformat": 4,
 "nbformat_minor": 4
}
