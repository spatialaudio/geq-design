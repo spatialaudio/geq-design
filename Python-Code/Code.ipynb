{
 "cells": [
  {
   "cell_type": "code",
   "execution_count": 70,
   "metadata": {
    "tags": []
   },
   "outputs": [],
   "source": [
    "import numpy as np\n",
    "from scipy import signal\n",
    "from pylab import *\n",
    "import matplotlib.pyplot as plt\n",
    "import scipy.io"
   ]
  },
  {
   "cell_type": "code",
   "execution_count": 71,
   "metadata": {},
   "outputs": [],
   "source": [
    "\"\"\"\n",
    "Function for initializing the graphic Equalizer\n",
    "\n",
    "    Parameters\n",
    "    ----------\n",
    "    G_db : ndarray\n",
    "        Command gains in dB\n",
    "        \n",
    "    Returns\n",
    "    -------\n",
    "    numsopt : ndarray\n",
    "        numerator pats of the 31 filters\n",
    "    densopt : ndarray\n",
    "        denominator parts of the 31 filters\n",
    "    fs : float\n",
    "        sample frequency\n",
    "    fc2 : \n",
    "        center frequencies and additional design points between them\n",
    "    G_db2 : ndarray\n",
    "        interpolate target gains linearly b/w command gains\n",
    "    Notes\n",
    "    -----\n",
    "    Python reference to Liski and Välimäki 2017 DAFx-17 Paper The Quest for the Best Graphic Equalizer\n",
    "\n",
    "\"\"\"\n",
    "\n",
    "\n",
    "def initGEQ(G_db):\n",
    "    fs = 44.1e3\n",
    "    #fc1 = 1000 * 2 ** ( 1/3 * arange(-17,14))\n",
    "    fc1 = np.array([19.69,24.80,31.25,39.37,49.61,62.50,78.75,99.21,125.0,157.5,198.4,\n",
    "    250.0,315.0,396.9,500.0,630.0,793.7,1000,1260,1587,2000,2520,3175,4000,\n",
    "    5040,6350,8000,10080,12700,16000,20160])\n",
    "    fc2_list = [None] * (len(fc1)+len(np.sqrt(fc1[0:len(fc1)-1:1] * fc1[1::1])))\n",
    "    fc2_list[::2] = fc1\n",
    "    fc2_list[1::2] = np.sqrt(fc1[0:len(fc1)-1:1] * fc1[1::1])\n",
    "    fc2 = np.array(fc2_list)\n",
    "    wg = 2*pi*fc1/fs\n",
    "    wc = 2*pi*fc2/fs\n",
    "    c= 0.4\n",
    "    bw = np.array((2 ** (1/3) - 2 ** (-1/3)) * wg)\n",
    "    bw_adjust = 2*pi/fs\n",
    "    # Bänder aus acge3.m\n",
    "    #bw[16::] = [370*bw_adjust, 466.2*bw_adjust, 587.4*bw_adjust, 740.1*bw_adjust, 932.4*bw_adjust, 1175*bw_adjust, 1480*bw_adjust, 1865*bw_adjust, 2350*bw_adjust, 2846*bw_adjust, 3502*bw_adjust, 4253*bw_adjust, 5038*bw_adjust, 5689*bw_adjust, 5570*bw_adjust]\n",
    "    bw[::] =[9.178*bw_adjust, 11.56*bw_adjust, 14.57*bw_adjust, 18.36*bw_adjust, 23.13*bw_adjust, 29.14*bw_adjust, 36.71*bw_adjust, 46.25*bw_adjust, 58.28*bw_adjust, 73.43*bw_adjust, \n",
    "    92.51*bw_adjust, 116.6*bw_adjust, 146.9*bw_adjust, 185.0*bw_adjust, 233.1*bw_adjust, 293.7*bw_adjust,370*bw_adjust, 466.2*bw_adjust, 587.4*bw_adjust, 740.1*bw_adjust, 932.4*bw_adjust, 1175*bw_adjust, 1480*bw_adjust, 1865*bw_adjust, 2350*bw_adjust, 2846*bw_adjust, 3502*bw_adjust, 4253*bw_adjust, 5038*bw_adjust, 5689*bw_adjust, 5570*bw_adjust]\n",
    "    # Bänder aus SGE initGEQ.m \n",
    "    #bw[16::] = [369.7*bw_adjust, 465.8*bw_adjust, 586.8*bw_adjust, 739.3*bw_adjust, 930.6*bw_adjust, 1172*bw_adjust, 1476*bw_adjust, 1857*bw_adjust, 2338*bw_adjust, 2943*bw_adjust, 3704*bw_adjust, 4638*bw_adjust, 5684*bw_adjust, 6803*bw_adjust, 4117*bw_adjust]\n",
    "    leak = interactionMatrix(10**(17/20)*np.ones(31),c,wg,wc,bw)\n",
    "\n",
    "    G_db2 = np.zeros([61,1])\n",
    "    G_db2[::2] = G_db\n",
    "    G_db2[1::2] = (G_db[:len(G_db)-1:1]+G_db[1::1])/2\n",
    "    \n",
    "    Gopt_db = np.linalg.lstsq(leak.conj().T, G_db2)[0]\n",
    "    Gopt = 10**(Gopt_db/20)\n",
    "    \n",
    "    leak2 = interactionMatrix(Gopt,c,wg,wc,bw)\n",
    "    G2opt_db = np.linalg.lstsq(leak2.conj().T, G_db2)[0]\n",
    "    G2opt = 10 **(G2opt_db/20)\n",
    "    G2wopt_db = c * G2opt_db\n",
    "    G2wopt = 10 **(G2wopt_db/20)\n",
    "    \n",
    "    q1 = np.zeros((1,31))    # for pareq_optimized \n",
    "    q3 = np.zeros((1,31))\n",
    "    q1[0][22::] = [0.00166, 0.00295, 0.00544, 0.0105, 0.0214, 0.0456, 0.103, 0.257, 0.754]\n",
    "    q3[0][22::] = [8.09e-6, 1.25e-5, 1.91e-5, 2.84e-5, 4.08e-5, 5.46e-5, 6.27e-5, 3.68e-5, -1.18e-4 ]\n",
    "    \n",
    "    numsopt = np.zeros((3,31))\n",
    "    densopt = np.zeros((3,31))\n",
    "    \n",
    "    numsopt2 = np.zeros((3,31))\n",
    "    densopt2 = np.zeros((3,31))\n",
    "    \n",
    "    for k in range(31):\n",
    "        [num,den] = pareq(G2opt[k],G2wopt[k],wg[k],bw[k])\n",
    "        numsopt[:,k] = num\n",
    "        densopt[:,k] = den\n",
    "        #gNq = q1[k]*g[k]+q3[k]*g[k]**3\n",
    "        #[num2,den2] = pareq_optimized(1,10**(gNq/20),G2opt[k],G2wopt[k],wg[k],bw[k])\n",
    "        #numsopt2[:,k] = num2\n",
    "        #densopt2[:,k] = den2\n",
    "    \n",
    "    return numsopt,densopt,fs,fc2,G_db2"
   ]
  },
  {
   "cell_type": "code",
   "execution_count": 72,
   "metadata": {},
   "outputs": [],
   "source": [
    "\"\"\"\n",
    "Second-order parametric equalizing filter desigh with adjustable bandwidth gain\n",
    "\n",
    "    Parameters\n",
    "    ----------\n",
    "    G : float64\n",
    "        peak gain (linear)\n",
    "    GB : float64\n",
    "        bandwidth gain (linear)\n",
    "    w0: float64\n",
    "        center frequency (rads/sample)\n",
    "    B : float64\n",
    "        bandwidth (rads/sample)\n",
    "    \n",
    "    Returns\n",
    "    -------\n",
    "    num : ndarray\n",
    "        numerator coefficients [b0,b1,b2]\n",
    "    den : ndarray\n",
    "        denominator coefficients [1,a1,a2]\n",
    "        \n",
    "    Notes\n",
    "    -----\n",
    "    Python reference to Liski and Välimäki 2017 DAFx-17 Paper The Quest for the Best Graphic Equalizer\n",
    "\"\"\"\n",
    "def pareq(G, GB, w0, B):\n",
    "    if G == 1:\n",
    "        beta = tan(B/2.)\n",
    "    else: \n",
    "        beta = np.sqrt(abs(GB**2-1)/abs(G**2-GB**2))*tan(B/2)\n",
    "\n",
    "    num = np.array([(1+G*beta), -2*cos(w0), (1-G*beta)]/(1+beta))\n",
    "    den = np.array([1, -2*cos(w0)/(1+beta), (1-beta)/(1+beta)])\n",
    "    \n",
    "    return num, den"
   ]
  },
  {
   "cell_type": "code",
   "execution_count": 73,
   "metadata": {
    "tags": []
   },
   "outputs": [],
   "source": [
    "\"\"\"\n",
    "Second-order parametric EQ with matching gain at Nyquist frequency\n",
    "\n",
    "    Parameters\n",
    "    ----------\n",
    "    G0 : float64\n",
    "        reference gain at DC (linear)\n",
    "    G1 : float64\n",
    "        nyquist-frequency gain\n",
    "    G : float64\n",
    "        peak gain (linear)\n",
    "    GB : float64\n",
    "        bandwidth gain (linear)\n",
    "    w0: float64\n",
    "        center frequency (rads/sample)\n",
    "    Dw : float64\n",
    "        bandwidth (rads/sample)\n",
    "        \n",
    "    Returns\n",
    "    -------\n",
    "    num : ndarray\n",
    "        numerator coefficients [b0,b1,b2]\n",
    "    den : ndarray\n",
    "        denominator coefficients [1,a1,a2]\n",
    "        \n",
    "    Notes\n",
    "    -----\n",
    "    Python reference to Ramo, Liski and Välimäki 2020 Applied Sciences Paper Third-Octave and Bark Graphic-Equalizer Design with Symetric Band Filters\n",
    "\"\"\"\n",
    "\n",
    "def pareq_optimized(G0,G1,G,GB,w0,Dw):\n",
    "    if G == 1:\n",
    "        b = np.array([1,0,0])\n",
    "        a = b\n",
    "    \n",
    "    else:\n",
    "        F = np.abs(G**2 - GB**2)\n",
    "        G00 = np.abs(G**2 - G0**2)\n",
    "        F00 = np.abs(GB**2 - G0**2)\n",
    "        \n",
    "        G01 = np.abs(G**2 - G0*G1)\n",
    "        G11 = np.abs(G**2 - G1**2)\n",
    "        F01 = np.abs(GB**2 - G0*G1)\n",
    "        F11 = np.abs(Gb**2 - G1**2)\n",
    "        \n",
    "        W2 = np.sqrt(G11/G00) * np.tan(w0/2)**2\n",
    "        DW = (1 + np.sqrt(F00/F11) * W2) * tan(Dw/2)\n",
    "        \n",
    "        C = F11*DW**2-2*W2*(F01-np.sqrt(F00*F11))\n",
    "        D = 2*W2*(G01-np.sqrt(G00*G11))\n",
    "        \n",
    "        A = np.sqrt((C*D)/F)\n",
    "        B = np.sqrt((G**2*C+GB**2*D)/F)\n",
    "        \n",
    "        num = [(G1+G0*W2+B), -2*(G1-G0*W2), (G1-B+G0*W2)]/(1+W2+A)\n",
    "        den = [1, (-2*(1-W2)), (1+W2-A)]/(1+W2+A)\n",
    "        \n",
    "    return num,den"
   ]
  },
  {
   "cell_type": "code",
   "execution_count": 74,
   "metadata": {},
   "outputs": [],
   "source": [
    "\"\"\"\n",
    "Compute the interaction matrix of a cascade GEQ\n",
    "\n",
    "    Parameters\n",
    "    ----------\n",
    "    G : ndarray\n",
    "        linear gain at which the leakage is determined    \n",
    "    c : float\n",
    "        gain factor at bandwidth (0.5 refers to db(G)/2)\n",
    "    wg : ndarray\n",
    "        command frequencies i.e. filter center frequencies (in rad/sample)\n",
    "    wc : ndarray\n",
    "        design frequencies (rad/sample) at which leakage is computed\n",
    "    bw : ndarray \n",
    "        bandwidth of filters in radians\n",
    "        \n",
    "    Return\n",
    "    ------\n",
    "    leak : ndarray\n",
    "        N by M matrix showing how the magnitude responses of the band filters leak to the design frequencies.\n",
    "        N is determined from the length of the array wc (number of design frequencies) whereas M is \n",
    "        determined from the length of wg (number of filters)\n",
    "        \n",
    "    Notes\n",
    "    -----\n",
    "    Python reference to Liski and Välimäki 2017 DAFx-17 Paper The Quest for the Best Graphic Equalizer\n",
    "\"\"\"\n",
    "\n",
    "def interactionMatrix(G,c,wg,wc,bw):\n",
    "\n",
    "    M = len(wg)\n",
    "    N = len(wc)\n",
    "    leak = np.zeros([M,N]) \n",
    "    Gdb = 20 * np.log10(G)\n",
    "    Gdbw = c * Gdb\n",
    "    Gw = 10 ** (Gdbw/20)\n",
    "    \n",
    "    for m in range(M):\n",
    "        [num, den] = pareq(G[m],Gw[m],wg[m],bw[m])\n",
    "        w,h = signal.freqz(num, den, wc)\n",
    "        Gain = 20*np.log10(np.abs(h))/Gdb[m]\n",
    "        leak[m,:] = np.abs(Gain)\n",
    "    return leak"
   ]
  },
  {
   "cell_type": "code",
   "execution_count": 75,
   "metadata": {},
   "outputs": [],
   "source": [
    "def plot(numsopt,densopt,fs,fc2,G_db2):\n",
    "    N_freq = 2 **12\n",
    "    w = np.logspace(np.log10(9),np.log10(22050), N_freq)\n",
    "    H_opt = np.ones((N_freq,31), dtype=complex)\n",
    "    H_opt_tot = np.ones((N_freq,1), dtype=complex)\n",
    "    \n",
    "    for k in range(31):\n",
    "        w, h = signal.freqz(numsopt[:,k], densopt[:,k],worN=w,fs=fs)\n",
    "        H_opt[:,k]= h\n",
    "        H_opt_tot = H_opt[:,[k]]  * H_opt_tot\n",
    "    \n",
    "    \n",
    "    plt.semilogx(w,20*np.log10(H_opt_tot))\n",
    "    plt.plot(fc2,G_db2, \"ro\", markersize=4, markerfacecolor=\"none\")\n",
    "    plt.ylabel(\"Magnitude [dB]\")\n",
    "    plt.xlabel(\"Frequency [Hz]\")\n",
    "    plt.title(\"Frequency response\")\n",
    "    plt.xticks([10, 30, 100, 1000, 3000, 10000])\n",
    "    plt.yticks(np.arange(-20,20,5))\n",
    "    plt.grid(which=\"both\", linestyle=\"--\", color=\"grey\")\n",
    "    plt.show()\n",
    "    \n",
    "    return w,H_opt_tot,fc2,G_db2     #returns just for testing"
   ]
  },
  {
   "cell_type": "code",
   "execution_count": 76,
   "metadata": {
    "tags": []
   },
   "outputs": [],
   "source": [
    "def thirdOctaveGEQ():\n",
    "    \n",
    "    G_db = np.array([12,5,6,9,12,12,12,12,12,12,12,12,12,12,12,12,12,12,12,12,12,12,12,12,12,12,12,12,4,6,2])\n",
    "    G_db_alternative = np.array([12,-12,-12,12,-12,-12,12,-12,-12,12,-12,-12,12,-12,-12,12,-12,-12,12,-12,-12,12,-12,-12,12,-12,-12,12,-12,-12,12])    \n",
    "    \n",
    "    [numsopt,densopt,fs,fc2,G_db2] = initGEQ(G_db.reshape((-1,1))) #reshape to make it 31x1 instead of 1x31\n",
    "    [w,H_opt_tot,fc2,G_db2] =plot(numsopt,densopt,fs,fc2,G_db2)\n",
    "    #plot(numsopt2,densopt2,fs,fc2,G_db2)\n",
    "    return w,H_opt_tot,fc2,G_db2"
   ]
  },
  {
   "cell_type": "code",
   "execution_count": 77,
   "metadata": {
    "tags": []
   },
   "outputs": [
    {
     "name": "stderr",
     "output_type": "stream",
     "text": [
      "C:/Users/Robert/AppData/Local/Temp/xpython_11540/4181854697.py:55: FutureWarning: `rcond` parameter will change to the default of machine precision times ``max(M, N)`` where M and N are the input matrix dimensions.\n",
      "To use the future default and silence this warning we advise to pass `rcond=None`, to keep using the old, explicitly pass `rcond=-1`.\n",
      "  Gopt_db = np.linalg.lstsq(leak.conj().T, G_db2)[0]\n",
      "C:/Users/Robert/AppData/Local/Temp/xpython_11540/52717356.py:32: VisibleDeprecationWarning: Creating an ndarray from ragged nested sequences (which is a list-or-tuple of lists-or-tuples-or ndarrays with different lengths or shapes) is deprecated. If you meant to do this, you must specify 'dtype=object' when creating the ndarray\n",
      "  num = np.array([(1+G*beta), -2*cos(w0), (1-G*beta)]/(1+beta))\n",
      "C:/Users/Robert/AppData/Local/Temp/xpython_11540/52717356.py:33: VisibleDeprecationWarning: Creating an ndarray from ragged nested sequences (which is a list-or-tuple of lists-or-tuples-or ndarrays with different lengths or shapes) is deprecated. If you meant to do this, you must specify 'dtype=object' when creating the ndarray\n",
      "  den = np.array([1, -2*cos(w0)/(1+beta), (1-beta)/(1+beta)])\n",
      "C:/Users/Robert/AppData/Local/Temp/xpython_11540/4181854697.py:59: FutureWarning: `rcond` parameter will change to the default of machine precision times ``max(M, N)`` where M and N are the input matrix dimensions.\n",
      "To use the future default and silence this warning we advise to pass `rcond=None`, to keep using the old, explicitly pass `rcond=-1`.\n",
      "  G2opt_db = np.linalg.lstsq(leak2.conj().T, G_db2)[0]\n",
      "C:\\Users\\Robert\\anaconda3\\envs\\ml\\lib\\site-packages\\numpy\\core\\_asarray.py:83: ComplexWarning: Casting complex values to real discards the imaginary part\n",
      "  return array(a, dtype, copy=False, order=order)\n"
     ]
    }
   ],
   "source": [
    "[w,H_opt_tot,fc2,G_db2] = thirdOctaveGEQ()"
   ]
  },
  {
   "cell_type": "code",
   "execution_count": 78,
   "metadata": {},
   "outputs": [
    {
     "data": {
      "text/plain": [
       "array([[1.96900000e+01, 2.20977827e+01, 2.48000000e+01, 2.78388218e+01,\n",
       "        3.12500000e+01, 3.50758108e+01, 3.93700000e+01, 4.41944080e+01,\n",
       "        4.96100000e+01, 5.56832560e+01, 6.25000000e+01, 7.01560760e+01,\n",
       "        7.87500000e+01, 8.83899740e+01, 9.92100000e+01, 1.11360900e+02,\n",
       "        1.25000000e+02, 1.40312152e+02, 1.57500000e+02, 1.76771038e+02,\n",
       "        1.98400000e+02, 2.22710575e+02, 2.50000000e+02, 2.80624304e+02,\n",
       "        3.15000000e+02, 3.53586623e+02, 3.96900000e+02, 4.45477272e+02,\n",
       "        5.00000000e+02, 5.61248608e+02, 6.30000000e+02, 7.07128701e+02,\n",
       "        7.93700000e+02, 8.90898423e+02, 1.00000000e+03, 1.12249722e+03,\n",
       "        1.26000000e+03, 1.41407921e+03, 1.58700000e+03, 1.78157234e+03,\n",
       "        2.00000000e+03, 2.24499443e+03, 2.52000000e+03, 2.82860390e+03,\n",
       "        3.17500000e+03, 3.56370594e+03, 4.00000000e+03, 4.48998886e+03,\n",
       "        5.04000000e+03, 5.65720779e+03, 6.35000000e+03, 7.12741187e+03,\n",
       "        8.00000000e+03, 8.97997773e+03, 1.00800000e+04, 1.13144156e+04,\n",
       "        1.27000000e+04, 1.42548237e+04, 1.60000000e+04, 1.79599555e+04,\n",
       "        2.01600000e+04],\n",
       "       [1.20000000e+01, 8.50000000e+00, 5.00000000e+00, 5.50000000e+00,\n",
       "        6.00000000e+00, 7.50000000e+00, 9.00000000e+00, 1.05000000e+01,\n",
       "        1.20000000e+01, 1.20000000e+01, 1.20000000e+01, 1.20000000e+01,\n",
       "        1.20000000e+01, 1.20000000e+01, 1.20000000e+01, 1.20000000e+01,\n",
       "        1.20000000e+01, 1.20000000e+01, 1.20000000e+01, 1.20000000e+01,\n",
       "        1.20000000e+01, 1.20000000e+01, 1.20000000e+01, 1.20000000e+01,\n",
       "        1.20000000e+01, 1.20000000e+01, 1.20000000e+01, 1.20000000e+01,\n",
       "        1.20000000e+01, 1.20000000e+01, 1.20000000e+01, 1.20000000e+01,\n",
       "        1.20000000e+01, 1.20000000e+01, 1.20000000e+01, 1.20000000e+01,\n",
       "        1.20000000e+01, 1.20000000e+01, 1.20000000e+01, 1.20000000e+01,\n",
       "        1.20000000e+01, 1.20000000e+01, 1.20000000e+01, 1.20000000e+01,\n",
       "        1.20000000e+01, 1.20000000e+01, 1.20000000e+01, 1.20000000e+01,\n",
       "        1.20000000e+01, 1.20000000e+01, 1.20000000e+01, 1.20000000e+01,\n",
       "        1.20000000e+01, 1.20000000e+01, 1.20000000e+01, 8.00000000e+00,\n",
       "        4.00000000e+00, 5.00000000e+00, 6.00000000e+00, 4.00000000e+00,\n",
       "        2.00000000e+00]])"
      ]
     },
     "execution_count": 78,
     "metadata": {},
     "output_type": "execute_result"
    }
   ],
   "source": [
    "xy_filter_mat = scipy.io.loadmat(\"xy_filter.mat\")\n",
    "xy_filter_mat.keys()\n",
    "xy_filter_mat[\"xy_filter\"]\n",
    "#xy_filter_mat[\"xy_filter\"].shape"
   ]
  },
  {
   "cell_type": "code",
   "execution_count": 79,
   "metadata": {},
   "outputs": [
    {
     "data": {
      "text/plain": [
       "array([[9.00000000e+00, 9.01716766e+00, 9.03436806e+00, ...,\n",
       "        2.19661186e+04, 2.20080193e+04, 2.20500000e+04],\n",
       "       [7.51864219e-01, 7.55742533e-01, 7.59645292e-01, ...,\n",
       "        2.08174505e-02, 5.24849351e-03, 0.00000000e+00]])"
      ]
     },
     "execution_count": 79,
     "metadata": {},
     "output_type": "execute_result"
    }
   ],
   "source": [
    "xy_semilog_mat = scipy.io.loadmat(\"xy_semilog.mat\")\n",
    "xy_semilog_mat.keys()\n",
    "xy_semilog_mat[\"xy_semilog\"]"
   ]
  },
  {
   "cell_type": "code",
   "execution_count": 80,
   "metadata": {},
   "outputs": [
    {
     "data": {
      "text/plain": [
       "array([0.00000000e+00, 0.00000000e+00, 0.00000000e+00, ...,\n",
       "       4.72937245e-11, 4.36557457e-11, 4.36557457e-11])"
      ]
     },
     "execution_count": 80,
     "metadata": {},
     "output_type": "execute_result"
    }
   ],
   "source": [
    "xy_semilog_mat[\"xy_semilog\"][0] - w"
   ]
  },
  {
   "cell_type": "code",
   "execution_count": 99,
   "metadata": {},
   "outputs": [
    {
     "data": {
      "text/plain": [
       "array([0.75186422, 0.75574253, 0.75964529, ..., 0.02081745, 0.00524849,\n",
       "       0.        ])"
      ]
     },
     "execution_count": 99,
     "metadata": {},
     "output_type": "execute_result"
    }
   ],
   "source": [
    "xy_semilog_mat[\"xy_semilog\"][1]"
   ]
  },
  {
   "cell_type": "code",
   "execution_count": 105,
   "metadata": {},
   "outputs": [
    {
     "data": {
      "text/plain": [
       "array([[ 7.51864220e-01,  7.55742533e-01,  7.59645292e-01, ...,\n",
       "         2.08174505e-02,  5.24849351e-03, -1.06076021e-14]])"
      ]
     },
     "execution_count": 105,
     "metadata": {},
     "output_type": "execute_result"
    }
   ],
   "source": [
    "20*np.log10(np.abs(H_opt_tot)).reshape((1,-1))"
   ]
  },
  {
   "cell_type": "code",
   "execution_count": 106,
   "metadata": {},
   "outputs": [
    {
     "data": {
      "text/plain": [
       "array([[-5.01969688e-10,  1.81725079e-10, -2.60657051e-11, ...,\n",
       "        -1.18623861e-13, -2.81077245e-14,  1.06076021e-14]])"
      ]
     },
     "execution_count": 106,
     "metadata": {},
     "output_type": "execute_result"
    }
   ],
   "source": [
    "xy_semilog_mat[\"xy_semilog\"][1]- 20*np.log10(np.abs(H_opt_tot)).reshape((1,-1))"
   ]
  },
  {
   "cell_type": "code",
   "execution_count": 82,
   "metadata": {},
   "outputs": [
    {
     "data": {
      "text/plain": [
       "array([0., 0., 0., 0., 0., 0., 0., 0., 0., 0., 0., 0., 0., 0., 0., 0., 0.,\n",
       "       0., 0., 0., 0., 0., 0., 0., 0., 0., 0., 0., 0., 0., 0., 0., 0., 0.,\n",
       "       0., 0., 0., 0., 0., 0., 0., 0., 0., 0., 0., 0., 0., 0., 0., 0., 0.,\n",
       "       0., 0., 0., 0., 0., 0., 0., 0., 0., 0.])"
      ]
     },
     "execution_count": 82,
     "metadata": {},
     "output_type": "execute_result"
    }
   ],
   "source": [
    "xy_filter_mat[\"xy_filter\"][0] - fc2"
   ]
  },
  {
   "cell_type": "code",
   "execution_count": 98,
   "metadata": {},
   "outputs": [
    {
     "data": {
      "text/plain": [
       "array([[0., 0., 0., 0., 0., 0., 0., 0., 0., 0., 0., 0., 0., 0., 0., 0.,\n",
       "        0., 0., 0., 0., 0., 0., 0., 0., 0., 0., 0., 0., 0., 0., 0., 0.,\n",
       "        0., 0., 0., 0., 0., 0., 0., 0., 0., 0., 0., 0., 0., 0., 0., 0.,\n",
       "        0., 0., 0., 0., 0., 0., 0., 0., 0., 0., 0., 0., 0.]])"
      ]
     },
     "execution_count": 98,
     "metadata": {},
     "output_type": "execute_result"
    }
   ],
   "source": [
    "xy_filter_mat[\"xy_filter\"][1] - G_db2.reshape((1,-1))"
   ]
  }
 ],
 "metadata": {
  "kernelspec": {
   "display_name": "Python 3.8 (XPython)",
   "language": "python",
   "name": "xpython"
  },
  "language_info": {
   "file_extension": ".py",
   "mimetype": "text/x-python",
   "name": "python",
   "version": "3.8.8"
  }
 },
 "nbformat": 4,
 "nbformat_minor": 4
}
