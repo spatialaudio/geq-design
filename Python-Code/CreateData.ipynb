{
 "cells": [
  {
   "cell_type": "code",
   "execution_count": 96,
   "id": "6dd230ec-11a1-45de-a228-d332e7f135a0",
   "metadata": {},
   "outputs": [],
   "source": [
    "import numpy as np\n",
    "\n",
    "# save numpy array as csv file\n",
    "from numpy import asarray\n",
    "from numpy import savetxt"
   ]
  },
  {
   "cell_type": "code",
   "execution_count": 97,
   "id": "c4d9a18e-2aa9-4ba7-9439-17ad06eb2b95",
   "metadata": {},
   "outputs": [],
   "source": [
    "def createInputData():\n",
    "    \n",
    "    data = np.random.uniform(-12,12,size=(1000,31))\n",
    "    dataInt1 = ((2*np.random.randint(0,2,size=(25,31))-1))*12\n",
    "    dataInt2 = ((2*np.random.randint(0,2,size=(25,31))-1))*12\n",
    "    dataInt3 = np.random.randint(-1, 2, (25, 31))*12\n",
    "    dataInt4 = np.random.randint(-1, 2, (25, 31))*12\n",
    "    a1 = np.array([12,12,12,12,12,12,12,12,12,12,12,12,12,12,12,12,12,12,12,12,12,12,12,12,12,12,12,12,12,12,12]).reshape(31,1)    \n",
    "    a2 = np.array([-12,-12,-12,-12,-12,-12,-12,-12,-12,-12,-12,-12,-12,-12,-12,-12,-12,-12,-12,-12,-12,-12,-12,-12,-12,-12,-12,-12,-12,-12,-12]).reshape(31,1)    \n",
    "    a3 = np.array([12,-12,12,-12,12,-12,12,-12,12,-12,12,-12,12,-12,12,-12,12,-12,12,-12,12,-12,12,-12,12,-12,12,-12,12,-12,12]).reshape(31,1)\n",
    "    a4 = np.array([-12,12,-12,12,-12,12,-12,12,-12,12,-12,12,-12,12,-12,12,-12,12,-12,12,-12,12,-12,12,-12,12,-12,12,-12,12,-12]).reshape(31,1)  \n",
    "    a5 = np.array([12,-12,-12,-12,12,12,12,-12,-12,-12,12,12,12,-12,-12,-12,12,12,12,-12,-12,-12,12,12,12,-12,-12,-12,12,12,12]).reshape(31,1)  \n",
    "    a6 = np.array([-12,12,12,12,-12,-12,-12,12,12,12,-12,-12,-12,12,12,12,-12,-12,-12,12,12,12,-12,-12,-12,12,12,12,-12,-12,-12]).reshape(31,1)  \n",
    "    a = np.array([[a1],[a2],[a3],[a4],[a5],[a6]]).reshape(6,31)\n",
    "    \n",
    "    data = np.r_[a,dataInt1,dataInt3,data,dataInt2,dataInt4]\n",
    "    \n",
    "    return data"
   ]
  },
  {
   "cell_type": "code",
   "execution_count": 98,
   "id": "150dfa8f-c410-46a6-9b57-927becbe72eb",
   "metadata": {},
   "outputs": [],
   "source": [
    "\n",
    "# define data\n",
    "data = asarray(createInputData(), dtype=np.float64,)\n",
    "# save to csv file\n",
    "savetxt('dataInputTest.csv', data, delimiter=',')"
   ]
  },
  {
   "cell_type": "code",
   "execution_count": null,
   "id": "02a9327a-469c-4f41-871b-dff1a4dc249e",
   "metadata": {},
   "outputs": [],
   "source": []
  }
 ],
 "metadata": {
  "kernelspec": {
   "display_name": "Python 3.8 (XPython)",
   "language": "python",
   "name": "xpython"
  },
  "language_info": {
   "file_extension": ".py",
   "mimetype": "text/x-python",
   "name": "python",
   "version": "3.8.8"
  }
 },
 "nbformat": 4,
 "nbformat_minor": 5
}
