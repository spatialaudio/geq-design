{
 "cells": [
  {
   "cell_type": "markdown",
   "metadata": {},
   "source": [
    "# Code"
   ]
  },
  {
   "cell_type": "code",
   "execution_count": 6,
   "metadata": {},
   "outputs": [],
   "source": [
    "import numpy as np\n",
    "from scipy import signal\n",
    "from pylab import *\n",
    "import matplotlib.pyplot as plt"
   ]
  },
  {
   "cell_type": "code",
   "execution_count": null,
   "metadata": {},
   "outputs": [
    {
     "name": "stderr",
     "output_type": "stream",
     "text": [
      "C:/Users/Robert/AppData/Local/Temp/xpython_4316/3891461790.py:4: RuntimeWarning: divide by zero encountered in log10\n",
      "  y = 20 * np.log10(abs(h))\n"
     ]
    }
   ],
   "source": [
    "sr = 44100\n",
    "w, h = signal.freqz(b=[1, -1], a=1)\n",
    "x = w * sr * 1.0 / (2 * np.pi)\n",
    "y = 20 * np.log10(abs(h))\n",
    "plt.figure(figsize=(10,5))\n",
    "plt.semilogx(x, y)\n",
    "plt.ylabel('Amplitude [dB]')\n",
    "plt.xlabel('Frequency [Hz]')\n",
    "plt.title('Frequency response')\n",
    "plt.grid(which='both', linestyle='-', color='grey')\n",
    "plt.xticks([20, 50, 100, 200, 500, 1000, 2000, 5000, 10000, 20000], [\"20\", \"50\", \"100\", \"200\", \"500\", \"1K\", \"2K\", \"5K\", \"10K\", \"20K\"])\n",
    "plt.show()"
   ]
  },
  {
   "cell_type": "code",
   "execution_count": 9,
   "metadata": {
    "scrolled": true
   },
   "outputs": [
    {
     "ename": "NameError",
     "evalue": "name 'kaiserord' is not defined",
     "output_type": "error",
     "traceback": [
      "\u001b[1;31m---------------------------------------------------------------------------\u001b[0m",
      "\u001b[1;31mNameError\u001b[0m                                 Traceback (most recent call last)",
      "\u001b[1;32m<ipython-input-9-2a057ed583fb>\u001b[0m in \u001b[0;36m<module>\u001b[1;34m\u001b[0m\n\u001b[0;32m     29\u001b[0m \u001b[1;33m\u001b[0m\u001b[0m\n\u001b[0;32m     30\u001b[0m \u001b[1;31m# Compute the order and Kaiser parameter for the FIR filter.\u001b[0m\u001b[1;33m\u001b[0m\u001b[1;33m\u001b[0m\u001b[1;33m\u001b[0m\u001b[0m\n\u001b[1;32m---> 31\u001b[1;33m \u001b[0mN\u001b[0m\u001b[1;33m,\u001b[0m \u001b[0mbeta\u001b[0m \u001b[1;33m=\u001b[0m \u001b[0mkaiserord\u001b[0m\u001b[1;33m(\u001b[0m\u001b[0mripple_db\u001b[0m\u001b[1;33m,\u001b[0m \u001b[0mwidth\u001b[0m\u001b[1;33m)\u001b[0m\u001b[1;33m\u001b[0m\u001b[1;33m\u001b[0m\u001b[0m\n\u001b[0m\u001b[0;32m     32\u001b[0m \u001b[1;33m\u001b[0m\u001b[0m\n\u001b[0;32m     33\u001b[0m \u001b[1;31m# The cutoff frequency of the filter.\u001b[0m\u001b[1;33m\u001b[0m\u001b[1;33m\u001b[0m\u001b[1;33m\u001b[0m\u001b[0m\n",
      "\u001b[1;31mNameError\u001b[0m: name 'kaiserord' is not defined"
     ]
    }
   ],
   "source": [
    "#!python\n",
    "\n",
    "#------------------------------------------------\n",
    "# Create a signal for demonstration.\n",
    "#------------------------------------------------\n",
    "\n",
    "sample_rate = 100.0\n",
    "nsamples = 400\n",
    "t = arange(nsamples) / sample_rate\n",
    "x = cos(2*pi*0.5*t) + 0.2*sin(2*pi*2.5*t+0.1) + \\\n",
    "        0.2*sin(2*pi*15.3*t) + 0.1*sin(2*pi*16.7*t + 0.1) + \\\n",
    "            0.1*sin(2*pi*23.45*t+.8)\n",
    "\n",
    "\n",
    "#------------------------------------------------\n",
    "# Create a FIR filter and apply it to x.\n",
    "#------------------------------------------------\n",
    "\n",
    "# The Nyquist rate of the signal.\n",
    "nyq_rate = sample_rate / 2.0\n",
    "\n",
    "# The desired width of the transition from pass to stop,\n",
    "# relative to the Nyquist rate.  We'll design the filter\n",
    "# with a 5 Hz transition width.\n",
    "width = 5.0/nyq_rate\n",
    "\n",
    "# The desired attenuation in the stop band, in dB.\n",
    "ripple_db = 60.0\n",
    "\n",
    "# Compute the order and Kaiser parameter for the FIR filter.\n",
    "N, beta = kaiserord(ripple_db, width)\n",
    "\n",
    "# The cutoff frequency of the filter.\n",
    "cutoff_hz = 10.0\n",
    "\n",
    "# Use firwin with a Kaiser window to create a lowpass FIR filter.\n",
    "taps = firwin(N, cutoff_hz/nyq_rate, window=('kaiser', beta))\n",
    "\n",
    "# Use lfilter to filter x with the FIR filter.\n",
    "filtered_x = lfilter(taps, 1.0, x)\n",
    "\n",
    "#------------------------------------------------\n",
    "# Plot the FIR filter coefficients.\n",
    "#------------------------------------------------\n",
    "\n",
    "figure(1)\n",
    "plot(taps, 'bo-', linewidth=2)\n",
    "title('Filter Coefficients (%d taps)' % N)\n",
    "grid(True)\n",
    "\n",
    "#------------------------------------------------\n",
    "# Plot the magnitude response of the filter.\n",
    "#------------------------------------------------\n",
    "\n",
    "figure(2)\n",
    "clf()\n",
    "w, h = freqz(taps, worN=8000)\n",
    "plot((w/pi)*nyq_rate, absolute(h), linewidth=2)\n",
    "xlabel('Frequency (Hz)')\n",
    "ylabel('Gain')\n",
    "title('Frequency Response')\n",
    "ylim(-0.05, 1.05)\n",
    "grid(True)\n",
    "\n",
    "# Upper inset plot.\n",
    "ax1 = axes([0.42, 0.6, .45, .25])\n",
    "plot((w/pi)*nyq_rate, absolute(h), linewidth=2)\n",
    "xlim(0,8.0)\n",
    "ylim(0.9985, 1.001)\n",
    "grid(True)\n",
    "\n",
    "# Lower inset plot\n",
    "ax2 = axes([0.42, 0.25, .45, .25])\n",
    "plot((w/pi)*nyq_rate, absolute(h), linewidth=2)\n",
    "xlim(12.0, 20.0)\n",
    "ylim(0.0, 0.0025)\n",
    "grid(True)\n",
    "\n",
    "#------------------------------------------------\n",
    "# Plot the original and filtered signals.\n",
    "#------------------------------------------------\n",
    "\n",
    "# The phase delay of the filtered signal.\n",
    "delay = 0.5 * (N-1) / sample_rate\n",
    "\n",
    "figure(3)\n",
    "# Plot the original signal.\n",
    "plot(t, x)\n",
    "# Plot the filtered signal, shifted to compensate for the phase delay.\n",
    "plot(t-delay, filtered_x, 'r-')\n",
    "# Plot just the \"good\" part of the filtered signal.  The first N-1\n",
    "# samples are \"corrupted\" by the initial conditions.\n",
    "plot(t[N-1:]-delay, filtered_x[N-1:], 'g', linewidth=4)\n",
    "\n",
    "xlabel('t')\n",
    "grid(True)\n",
    "\n",
    "show()"
   ]
  },
  {
   "cell_type": "code",
   "execution_count": 7,
   "metadata": {},
   "outputs": [
    {
     "name": "stderr",
     "output_type": "stream",
     "text": [
      "<ipython-input-7-a279d443dc12>:8: MatplotlibDeprecationWarning: Adding an axes using the same arguments as a previous axes currently reuses the earlier instance.  In a future version, a new instance will always be created and returned.  Meanwhile, this warning can be suppressed, and the future behavior ensured, by passing a unique label to each axes instance.\n",
      "  ax1 = fig.add_subplot(111)\n"
     ]
    },
    {
     "data": {
      "image/png": "[encoded data removed]",
      "text/plain": [
       "<Figure size 432x288 with 2 Axes>"
      ]
     },
     "metadata": {
      "needs_background": "light"
     },
     "output_type": "display_data"
    }
   ],
   "source": [
    "from scipy import signal\n",
    "b = signal.firwin(80, 0.5, window=('kaiser', 8))\n",
    "w, h = signal.freqz(b)\n",
    "\n",
    "import matplotlib.pyplot as plt\n",
    "fig = plt.figure()\n",
    "plt.title('Digital filter frequency response')\n",
    "ax1 = fig.add_subplot(111)\n",
    "\n",
    "plt.plot(w, 20 * np.log10(abs(h)), 'b')\n",
    "plt.ylabel('Amplitude [dB]', color='b')\n",
    "plt.xlabel('Frequency [rad/sample]')\n",
    "\n",
    "ax2 = ax1.twinx()\n",
    "angles = np.unwrap(np.angle(h)) \n",
    "plt.plot(w, angles, 'g')\n",
    "plt.ylabel('Angle (radians)', color='g')\n",
    "plt.grid()\n",
    "plt.axis('tight')\n",
    "plt.show()"
   ]
  },
  {
   "cell_type": "code",
   "execution_count": 8,
   "metadata": {},
   "outputs": [
    {
     "name": "stdout",
     "output_type": "stream",
     "text": [
      "Magnitude: 44.805875391277276 , phase: -0.26724564066754836\n"
     ]
    },
    {
     "data": {
      "image/png": "[encoded data removed]",
      "text/plain": [
       "<Figure size 432x288 with 1 Axes>"
      ]
     },
     "metadata": {
      "needs_background": "light"
     },
     "output_type": "display_data"
    }
   ],
   "source": [
    "\n",
    "# Number of sample points\n",
    "N = 1000\n",
    "\n",
    "# Sample spacing\n",
    "T = 1.0 / 800.0     # f = 800 Hz\n",
    "\n",
    "# Create a signal\n",
    "x = np.linspace(0.0, N*T, N)\n",
    "t0 = np.pi/6   # non-zero phase of the second sine\n",
    "y = np.sin(50.0 * 2.0*np.pi*x) + 0.5*np.sin(200.0 * 2.0*np.pi*x + t0)\n",
    "yf = np.fft.fft(y) # to normalize use norm='ortho' as an additional argument\n",
    "\n",
    "# Where is a 200 Hz frequency in the results?\n",
    "freq = np.fft.fftfreq(x.size, d=T)\n",
    "index, = np.where(np.isclose(freq, 200, atol=1/(T*N)))\n",
    "\n",
    "# Get magnitude and phase\n",
    "magnitude = np.abs(yf[index[0]])\n",
    "phase = np.angle(yf[index[0]])\n",
    "print(\"Magnitude:\", magnitude, \", phase:\", phase)\n",
    "\n",
    "# Plot a spectrum \n",
    "plt.plot(freq[0:N//2], 2/N*np.abs(yf[0:N//2]), label='amplitude spectrum')   # in a conventional form\n",
    "plt.plot(freq[0:N//2], np.angle(yf[0:N//2]), label='phase spectrum')\n",
    "plt.legend()\n",
    "plt.grid()\n",
    "plt.show()"
   ]
  },
  {
   "cell_type": "code",
   "execution_count": null,
   "metadata": {},
   "outputs": [],
   "source": []
  },
  {
   "cell_type": "code",
   "execution_count": null,
   "metadata": {},
   "outputs": [],
   "source": []
  }
 ],
 "metadata": {
  "kernelspec": {
   "display_name": "Python 3.8 (XPython)",
   "language": "python",
   "name": "xpython"
  },
  "language_info": {
   "file_extension": ".py",
   "mimetype": "text/x-python",
   "name": "python",
   "version": "3.8.8"
  }
 },
 "nbformat": 4,
 "nbformat_minor": 4
}
