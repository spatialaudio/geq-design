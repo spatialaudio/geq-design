{
 "cells": [
  {
   "cell_type": "code",
   "execution_count": 11,
   "id": "73d1099c-f608-4646-98e7-068edf901d26",
   "metadata": {},
   "outputs": [
    {
     "name": "stdout",
     "output_type": "stream",
     "text": [
      "The tensorboard extension is already loaded. To reload it, use:\n",
      "  %reload_ext tensorboard\n"
     ]
    }
   ],
   "source": [
    "import numpy as np\n",
    "import tensorflow as tf\n",
    "import pandas as pd\n",
    "import datetime\n",
    "\n",
    "%load_ext tensorboard"
   ]
  },
  {
   "cell_type": "code",
   "execution_count": 12,
   "id": "343361a9-8fa5-4f32-9a85-4a7f2752348a",
   "metadata": {},
   "outputs": [],
   "source": [
    "InputData = np.loadtxt(\"dataInput.csv\",delimiter=\",\")\n",
    "OutputData = np.loadtxt (\"dataOutput.csv\", delimiter=\",\")"
   ]
  },
  {
   "cell_type": "code",
   "execution_count": 13,
   "id": "57a72afc-13db-432b-980e-ce6baad0c34a",
   "metadata": {},
   "outputs": [],
   "source": [
    "InputDataTrain = InputData[0:900]\n",
    "InputDataTest = InputData[900:1106]\n",
    "\n",
    "OutputDataTrain = OutputData[0:900]\n",
    "OutputDataTest = OutputData[900:1106]"
   ]
  },
  {
   "cell_type": "code",
   "execution_count": 14,
   "id": "38f61522-1759-49ce-82a4-a876bc91b792",
   "metadata": {},
   "outputs": [],
   "source": [
    "train = pd.read_csv(\"dataInput.csv\", names= [\"Filter1\",\"Filter2\",\"Filter3\",\"Filter4\",\"Filter5\",\"Filter6\",\"Filter7\",\"Filter8\",\"Filter9\",\"Filter10\",\"Filter11\",\"Filter12\",\"Filter13\",\"Filter14\",\"Filter15\",\"Filter16\",\"Filter17\",\"Filter18\",\"Filter19\",\"Filter20\",\"Filter21\",\"Filter22\",\"Filter23\",\"Filter24\",\"Filter25\",\"Filter26\",\"Filter27\",\"Filter28\",\"Filter29\",\"Filter30\",\"Filter31\"])\n",
    "#train"
   ]
  },
  {
   "cell_type": "code",
   "execution_count": 15,
   "id": "0791384b-c115-4a94-ac48-64a7e19e3be3",
   "metadata": {},
   "outputs": [],
   "source": [
    "def create_model() :\n",
    "    return tf.keras.models.Sequential([\n",
    "      tf.keras.layers.Flatten(input_shape=(31, 1)),\n",
    "      tf.keras.layers.Dense(62, activation='relu'),\n",
    "      tf.keras.layers.Dense(62, activation='relu'),\n",
    "      tf.keras.layers.Dropout(0.2),\n",
    "      tf.keras.layers.Dense(31)\n",
    "    ])"
   ]
  },
  {
   "cell_type": "code",
   "execution_count": 16,
   "id": "9a70b39a-a44a-4bc7-84cf-e85bb8b64837",
   "metadata": {},
   "outputs": [
    {
     "data": {
      "text/plain": [
       "<tensorflow.python.keras.engine.sequential.Sequential at 0x2314331efd0>"
      ]
     },
     "execution_count": 16,
     "metadata": {},
     "output_type": "execute_result"
    }
   ],
   "source": [
    "model = create_model()\n",
    "model"
   ]
  },
  {
   "cell_type": "code",
   "execution_count": 24,
   "id": "13afca54-c88a-49a5-8e2a-981069bc7bd7",
   "metadata": {},
   "outputs": [
    {
     "name": "stdout",
     "output_type": "stream",
     "text": [
      "Epoch 1/5\n",
      "\n",
      " 1/29 [>.............................] - ETA: 0s - loss: 61.7480 - accuracy: 0.2500\n",
      " 2/29 [=>............................] - ETA: 6s - loss: 62.7573 - accuracy: 0.2031WARNING:tensorflow:Callbacks method `on_train_batch_end` is slow compared to the batch time (batch time: 0.0010s vs `on_train_batch_end` time: 0.4868s). Check your callbacks.\n",
      "WARNING:tensorflow:Callbacks method `on_test_batch_end` is slow compared to the batch time (batch time: 0.0000s vs `on_test_batch_end` time: 0.0010s). Check your callbacks.\n",
      "\n",
      "29/29 [==============================] - 1s 23ms/step - loss: 64.4940 - accuracy: 0.1744 - val_loss: 67.9370 - val_accuracy: 0.2184\n",
      "Epoch 2/5\n",
      "\n",
      " 1/29 [>.............................] - ETA: 0s - loss: 67.4543 - accuracy: 0.1562\n",
      "29/29 [==============================] - 0s 2ms/step - loss: 57.7084 - accuracy: 0.2256 - val_loss: 59.7815 - val_accuracy: 0.2427\n",
      "Epoch 3/5\n",
      "\n",
      " 1/29 [>.............................] - ETA: 0s - loss: 54.5970 - accuracy: 0.2812\n",
      "29/29 [==============================] - 0s 2ms/step - loss: 53.3928 - accuracy: 0.2700 - val_loss: 53.7410 - val_accuracy: 0.2476\n",
      "Epoch 4/5\n",
      "\n",
      " 1/29 [>.............................] - ETA: 0s - loss: 49.5455 - accuracy: 0.2188\n",
      "29/29 [==============================] - 0s 3ms/step - loss: 48.3815 - accuracy: 0.2711 - val_loss: 48.3034 - val_accuracy: 0.2767\n",
      "Epoch 5/5\n",
      "\n",
      " 1/29 [>.............................] - ETA: 0s - loss: 44.3087 - accuracy: 0.1875\n",
      "29/29 [==============================] - 0s 2ms/step - loss: 44.5975 - accuracy: 0.3111 - val_loss: 44.0192 - val_accuracy: 0.3058\n"
     ]
    },
    {
     "data": {
      "text/plain": [
       "<tensorflow.python.keras.callbacks.History at 0x23144b233d0>"
      ]
     },
     "execution_count": 24,
     "metadata": {},
     "output_type": "execute_result"
    }
   ],
   "source": [
    "model.compile(optimizer='adam',\n",
    "              loss=tf.keras.losses.MeanSquaredError(),\n",
    "              metrics=['accuracy'])\n",
    "\n",
    "log_dir = \"logs/fit/\" + datetime.datetime.now().strftime(\"%Y%m%d-%H%M%S\")\n",
    "tensorboard_callback = tf.keras.callbacks.TensorBoard(log_dir=log_dir, histogram_freq=1)\n",
    "\n",
    "model.fit(x=InputDataTrain, \n",
    "          y=OutputDataTrain, \n",
    "          epochs=5, \n",
    "          validation_data=(InputDataTest, OutputDataTest), \n",
    "          callbacks=[tensorboard_callback])"
   ]
  },
  {
   "cell_type": "code",
   "execution_count": 23,
   "id": "76a75cf6-2999-49f1-8ff6-c4a16fb05ac9",
   "metadata": {},
   "outputs": [
    {
     "name": "stdout",
     "output_type": "stream",
     "text": [
      "Launching TensorBoard...\n",
      "Reusing TensorBoard on port 6006 (pid 14980), started 0:18:32 ago. (Use '!kill 14980' to kill it.)\n",
      "Please visit http://localhost:6006 in a web browser.\n"
     ]
    }
   ],
   "source": [
    "%tensorboard --logdir logs/fit"
   ]
  },
  {
   "cell_type": "code",
   "execution_count": 22,
   "id": "1bfaa461-b577-45e9-9b48-4288d9ab8228",
   "metadata": {},
   "outputs": [
    {
     "name": "stdout",
     "output_type": "stream",
     "text": [
      "\u001b[1;36m  File \u001b[1;32m\"C:/Users/Robert/AppData/Local/Temp/xpython_8972/1648331085.py\"\u001b[1;36m, line \u001b[1;32m1\u001b[0m\n",
      "\u001b[1;33m    kill 14980\u001b[0m\n",
      "\u001b[1;37m         ^\u001b[0m\n",
      "\u001b[1;31mSyntaxError\u001b[0m\u001b[1;31m:\u001b[0m invalid syntax\n",
      "\n"
     ]
    }
   ],
   "source": [
    "kill 14980"
   ]
  },
  {
   "cell_type": "code",
   "execution_count": null,
   "id": "5b5b358e-8633-4ac7-a6a7-f8422d1883f3",
   "metadata": {},
   "outputs": [],
   "source": []
  }
 ],
 "metadata": {
  "kernelspec": {
   "display_name": "Python 3.8 (XPython)",
   "language": "python",
   "name": "xpython"
  },
  "language_info": {
   "file_extension": ".py",
   "mimetype": "text/x-python",
   "name": "python",
   "version": "3.8.8"
  }
 },
 "nbformat": 4,
 "nbformat_minor": 5
}
