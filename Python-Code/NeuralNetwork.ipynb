{
 "cells": [
  {
   "cell_type": "code",
   "execution_count": 11,
   "id": "73d1099c-f608-4646-98e7-068edf901d26",
   "metadata": {},
   "outputs": [],
   "source": [
    "import numpy as np\n",
    "import tensorflow as tf\n",
    "import pandas as pd\n",
    "import datetime\n",
    "\n",
    "%load_ext tensorboard"
   ]
  },
  {
   "cell_type": "code",
   "execution_count": 12,
   "id": "343361a9-8fa5-4f32-9a85-4a7f2752348a",
   "metadata": {},
   "outputs": [],
   "source": [
    "InputData = np.loadtxt(\"dataInput.csv\",delimiter=\",\")\n",
    "OutputData = np.loadtxt (\"dataOutput.csv\", delimiter=\",\")"
   ]
  },
  {
   "cell_type": "code",
   "execution_count": 13,
   "id": "57a72afc-13db-432b-980e-ce6baad0c34a",
   "metadata": {},
   "outputs": [],
   "source": [
    "InputDataTrain = InputData[0:900]\n",
    "InputDataTest = InputData[900:1106]\n",
    "\n",
    "OutputDataTrain = OutputData[0:900]\n",
    "OutputDataTest = OutputData[900:1106]"
   ]
  },
  {
   "cell_type": "code",
   "execution_count": 14,
   "id": "38f61522-1759-49ce-82a4-a876bc91b792",
   "metadata": {},
   "outputs": [],
   "source": [
    "train = pd.read_csv(\"dataInput.csv\", names= [\"Filter1\",\"Filter2\",\"Filter3\",\"Filter4\",\"Filter5\",\"Filter6\",\"Filter7\",\"Filter8\",\"Filter9\",\"Filter10\",\"Filter11\",\"Filter12\",\"Filter13\",\"Filter14\",\"Filter15\",\"Filter16\",\"Filter17\",\"Filter18\",\"Filter19\",\"Filter20\",\"Filter21\",\"Filter22\",\"Filter23\",\"Filter24\",\"Filter25\",\"Filter26\",\"Filter27\",\"Filter28\",\"Filter29\",\"Filter30\",\"Filter31\"])\n",
    "#train"
   ]
  },
  {
   "cell_type": "code",
   "execution_count": 15,
   "id": "0791384b-c115-4a94-ac48-64a7e19e3be3",
   "metadata": {},
   "outputs": [],
   "source": [
    "def create_model() :\n",
    "    return tf.keras.models.Sequential([\n",
    "      tf.keras.layers.Flatten(input_shape=(31, 1)),\n",
    "      tf.keras.layers.Dense(62,input_dim = 31, activation='relu'),\n",
    "      tf.keras.layers.Dense(62,input_dim = 62, activation='relu'),\n",
    "      tf.keras.layers.Dropout(0.2),\n",
    "      tf.keras.layers.Dense(31)\n",
    "    ])"
   ]
  },
  {
   "cell_type": "code",
   "execution_count": 16,
   "id": "9a70b39a-a44a-4bc7-84cf-e85bb8b64837",
   "metadata": {},
   "outputs": [
    {
     "data": {
      "text/plain": [
       "<tensorflow.python.keras.engine.sequential.Sequential at 0x1f513e1eac0>"
      ]
     },
     "execution_count": 16,
     "metadata": {},
     "output_type": "execute_result"
    }
   ],
   "source": [
    "model = create_model()\n",
    "model"
   ]
  },
  {
   "cell_type": "code",
   "execution_count": 17,
   "id": "13afca54-c88a-49a5-8e2a-981069bc7bd7",
   "metadata": {
    "tags": []
   },
   "outputs": [
    {
     "name": "stdout",
     "output_type": "stream",
     "text": [
      "Epoch 1/10\n",
      "\n",
      " 1/29 [>.............................] - ETA: 0s - loss: 110.0024 - accuracy: 0.0625\n",
      " 2/29 [=>............................] - ETA: 5s - loss: 116.2621 - accuracy: 0.0625WARNING:tensorflow:Callbacks method `on_train_batch_end` is slow compared to the batch time (batch time: 0.0010s vs `on_train_batch_end` time: 0.3854s). Check your callbacks.\n",
      "\n",
      "29/29 [==============================] - 1s 20ms/step - loss: 112.2079 - accuracy: 0.0444 - val_loss: 126.9664 - val_accuracy: 0.0583\n",
      "Epoch 2/10\n",
      "\n",
      " 1/29 [>.............................] - ETA: 0s - loss: 110.8241 - accuracy: 0.0312\n",
      "29/29 [==============================] - 0s 2ms/step - loss: 99.8764 - accuracy: 0.0789 - val_loss: 117.0078 - val_accuracy: 0.1117\n",
      "Epoch 3/10\n",
      "\n",
      " 1/29 [>.............................] - ETA: 0s - loss: 80.4448 - accuracy: 0.1562\n",
      "29/29 [==============================] - 0s 3ms/step - loss: 91.0340 - accuracy: 0.1256 - val_loss: 105.5113 - val_accuracy: 0.1408\n",
      "Epoch 4/10\n",
      "\n",
      " 1/29 [>.............................] - ETA: 0s - loss: 89.3201 - accuracy: 0.1875\n",
      "29/29 [==============================] - 0s 2ms/step - loss: 81.7397 - accuracy: 0.1589 - val_loss: 92.3589 - val_accuracy: 0.1699\n",
      "Epoch 5/10\n",
      "\n",
      " 1/29 [>.............................] - ETA: 0s - loss: 67.5204 - accuracy: 0.1562\n",
      "29/29 [==============================] - 0s 2ms/step - loss: 71.9709 - accuracy: 0.1889 - val_loss: 78.7688 - val_accuracy: 0.1942\n",
      "Epoch 6/10\n",
      "\n",
      " 1/29 [>.............................] - ETA: 0s - loss: 69.8690 - accuracy: 0.0938\n",
      "29/29 [==============================] - 0s 2ms/step - loss: 63.3702 - accuracy: 0.2089 - val_loss: 66.7768 - val_accuracy: 0.2282\n",
      "Epoch 7/10\n",
      "\n",
      " 1/29 [>.............................] - ETA: 0s - loss: 60.3822 - accuracy: 0.2500\n",
      "29/29 [==============================] - 0s 2ms/step - loss: 56.3464 - accuracy: 0.2533 - val_loss: 57.3864 - val_accuracy: 0.2670\n",
      "Epoch 8/10\n",
      "\n",
      " 1/29 [>.............................] - ETA: 0s - loss: 46.7360 - accuracy: 0.3438\n",
      "29/29 [==============================] - 0s 2ms/step - loss: 50.6760 - accuracy: 0.2756 - val_loss: 50.5174 - val_accuracy: 0.3204\n",
      "Epoch 9/10\n",
      "\n",
      " 1/29 [>.............................] - ETA: 0s - loss: 50.6643 - accuracy: 0.4375\n",
      "29/29 [==============================] - 0s 2ms/step - loss: 46.3601 - accuracy: 0.2978 - val_loss: 45.7628 - val_accuracy: 0.3689\n",
      "Epoch 10/10\n",
      "\n",
      " 1/29 [>.............................] - ETA: 0s - loss: 47.7171 - accuracy: 0.2188\n",
      "29/29 [==============================] - 0s 2ms/step - loss: 43.6493 - accuracy: 0.3178 - val_loss: 42.0716 - val_accuracy: 0.4078\n"
     ]
    },
    {
     "data": {
      "text/plain": [
       "<tensorflow.python.keras.callbacks.History at 0x1f51598e3a0>"
      ]
     },
     "execution_count": 17,
     "metadata": {},
     "output_type": "execute_result"
    }
   ],
   "source": [
    "model.compile(optimizer='adam',\n",
    "              loss=tf.keras.losses.MeanSquaredError(),\n",
    "              metrics=['accuracy'])\n",
    "\n",
    "log_dir = \"logs/fit/\" + datetime.datetime.now().strftime(\"%Y%m%d-%H%M%S\")\n",
    "tensorboard_callback = tf.keras.callbacks.TensorBoard(log_dir=log_dir, histogram_freq=1)\n",
    "\n",
    "model.fit(x=InputDataTrain, \n",
    "          y=OutputDataTrain, \n",
    "          epochs=10, \n",
    "          validation_data=(InputDataTest, OutputDataTest), \n",
    "          callbacks=[tensorboard_callback])"
   ]
  },
  {
   "cell_type": "code",
   "execution_count": 20,
   "id": "76a75cf6-2999-49f1-8ff6-c4a16fb05ac9",
   "metadata": {},
   "outputs": [
    {
     "name": "stdout",
     "output_type": "stream",
     "text": [
      "Launching TensorBoard...\n",
      "Reusing TensorBoard on port 6006 (pid 14716), started 0:16:41 ago. (Use '!kill 14716' to kill it.)\n",
      "Please visit http://localhost:6006 in a web browser.\n"
     ]
    }
   ],
   "source": [
    "%tensorboard --logdir logs --host localhost  #localhost:6006"
   ]
  },
  {
   "cell_type": "code",
   "execution_count": null,
   "id": "5b5b358e-8633-4ac7-a6a7-f8422d1883f3",
   "metadata": {},
   "outputs": [],
   "source": []
  }
 ],
 "metadata": {
  "kernelspec": {
   "display_name": "Python 3.8 (XPython)",
   "language": "python",
   "name": "xpython"
  },
  "language_info": {
   "file_extension": ".py",
   "mimetype": "text/x-python",
   "name": "python",
   "version": "3.8.8"
  }
 },
 "nbformat": 4,
 "nbformat_minor": 5
}
