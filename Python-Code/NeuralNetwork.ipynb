{
 "cells": [
  {
   "cell_type": "code",
   "execution_count": 1,
   "id": "d5a13f98",
   "metadata": {},
   "outputs": [],
   "source": [
    "import numpy as np\n",
    "import tensorflow as tf\n",
    "import pandas as pd\n",
    "import datetime\n",
    "from sklearn.preprocessing import MinMaxScaler\n",
    "from sklearn.model_selection import GridSearchCV\n",
    "from sklearn.metrics import make_scorer\n",
    "from sklearn.metrics import accuracy_score, precision_score, recall_score\n",
    "import time\n",
    "#HP Tuning\n",
    "from tensorboard.plugins.hparams import api as hp\n",
    "\n",
    "%load_ext tensorboard"
   ]
  },
  {
   "cell_type": "code",
   "execution_count": 2,
   "id": "ee7345ae",
   "metadata": {},
   "outputs": [
    {
     "data": {
      "text/plain": [
       "(22012, 31)"
      ]
     },
     "execution_count": 2,
     "metadata": {},
     "output_type": "execute_result"
    }
   ],
   "source": [
    "InputData = np.loadtxt(\"dataInputLarge.csv\",delimiter=\",\")\n",
    "OutputData = np.loadtxt (\"dataOutputLarge.csv\", delimiter=\",\")\n",
    "\n",
    "InputDataSmall = np.loadtxt(\"dataInput2.csv\",delimiter=\",\")\n",
    "OutputDataSmall = np.loadtxt (\"dataOutput2.csv\", delimiter=\",\")\n",
    "\n",
    "InputDataLarge = np.loadtxt(\"dataInputLarge2.csv\",delimiter=\",\")\n",
    "OutputDataLarge = np.loadtxt (\"dataOutputLarge2.csv\", delimiter=\",\")\n",
    "\n",
    "InputDataLarge.shape"
   ]
  },
  {
   "cell_type": "code",
   "execution_count": 3,
   "id": "b0de1559",
   "metadata": {},
   "outputs": [],
   "source": [
    "InputDataTrain = InputData[0:9000]  \n",
    "InputDataTest = InputData[9000:11006]  \n",
    "OutputDataTrain = OutputData[0:9000] \n",
    "OutputDataTest = OutputData[9000:11006]\n",
    "\n",
    "InputDataTrainS = InputDataSmall[0:900]  \n",
    "InputDataTestS = InputDataSmall[900:1106]  \n",
    "OutputDataTrainS = OutputDataSmall[0:900] \n",
    "OutputDataTestS = OutputDataSmall[900:1106]\n",
    "\n",
    "InputDataTrainL = InputDataLarge[0:18000]  \n",
    "InputDataTestL = InputDataLarge[18000:22012]  \n",
    "OutputDataTrainL = OutputDataLarge[0:18000] \n",
    "OutputDataTestL = OutputDataLarge[18000:22012]"
   ]
  },
  {
   "cell_type": "code",
   "execution_count": 35,
   "id": "48ca1eaa-249d-4e1d-9e81-9d9695d29110",
   "metadata": {},
   "outputs": [],
   "source": [
    "scaler = MinMaxScaler(feature_range=(0, 1))\n",
    "\n",
    "InputDataTrain_transformed = scaler.fit_transform(InputDataTrain) \n",
    "InputDataTrain_retransformed = scaler.inverse_transform(InputDataTrain_transformed)\n",
    "InputDataTest_transformed = scaler.fit_transform(InputDataTest)\n",
    "InputDataTest_retransformed = scaler.inverse_transform(InputDataTest_transformed)\n",
    "OutputDataTrain_transformed = scaler.fit_transform(OutputDataTrain)\n",
    "OutputDataTrain_retransformed = scaler.inverse_transform(OutputDataTrain_transformed)\n",
    "OutputDataTest_transformed = scaler.fit_transform(OutputDataTest)\n",
    "OutputDataTest_retransformed = scaler.inverse_transform(OutputDataTest_transformed)         \n",
    "\n",
    "\n",
    "InputDataTrainS_transformed = scaler.fit_transform(InputDataTrainS) \n",
    "InputDataTestS_transformed = scaler.fit_transform(InputDataTestS)\n",
    "OutputDataTrainS_transformed = scaler.fit_transform(OutputDataTrainS)\n",
    "OutputDataTestS_transformed = scaler.fit_transform(OutputDataTestS)\n",
    "\n",
    "InputDataTrainL_transformed = scaler.fit_transform(InputDataTrainL) \n",
    "InputDataTestL_transformed = scaler.fit_transform(InputDataTestL)\n",
    "InputDataTestL_retransformed = scaler.inverse_transform(InputDataTestL_transformed)\n",
    "OutputDataTrainL_transformed = scaler.fit_transform(OutputDataTrainL)\n",
    "OutputDataTestL_transformed = scaler.fit_transform(OutputDataTestL)\n"
   ]
  },
  {
   "cell_type": "code",
   "execution_count": 5,
   "id": "190f40b1",
   "metadata": {},
   "outputs": [],
   "source": [
    "def create_model() :\n",
    "    return tf.keras.models.Sequential([\n",
    "      tf.keras.layers.Dense(6200,input_shape = (31,),activation='relu'),\n",
    "      #tf.keras.layers.Dense(310,activation='linear'),  \n",
    "      #tf.keras.layers.Dense(62,activation='linear'),\n",
    "      tf.keras.layers.Dense(31),\n",
    "    ])"
   ]
  },
  {
   "cell_type": "code",
   "execution_count": 6,
   "id": "ebf29d39-8285-46e8-8201-9d1b1ed27cf0",
   "metadata": {},
   "outputs": [],
   "source": [
    "def create_model_alter() :\n",
    "    return tf.keras.models.Sequential([\n",
    "          tf.keras.layers.Dense(1500,input_shape = (31,),activation='relu'),\n",
    "          tf.keras.layers.Dense(62,activation='linear'),\n",
    "          tf.keras.layers.Dense(31,activation='linear'),\n",
    "    ])"
   ]
  },
  {
   "cell_type": "code",
   "execution_count": 7,
   "id": "2652e4d7",
   "metadata": {
    "tags": []
   },
   "outputs": [],
   "source": [
    "#model_load = tf.keras.models.load_model(\"Models/Model\")\n",
    "model_load = tf.keras.models.load_model(\"Models/ModelLarge\")"
   ]
  },
  {
   "cell_type": "code",
   "execution_count": 8,
   "id": "6a55ede1-d5ce-428d-a356-fc9683d1b1c4",
   "metadata": {
    "tags": []
   },
   "outputs": [],
   "source": [
    "#model = create_model()\n",
    "#model= create_model_alter()\n",
    "model = model_load"
   ]
  },
  {
   "cell_type": "code",
   "execution_count": 9,
   "id": "fab4170c",
   "metadata": {},
   "outputs": [
    {
     "name": "stdout",
     "output_type": "stream",
     "text": [
      "Model: \"sequential_171\"\n",
      "_________________________________________________________________\n",
      "Layer (type)                 Output Shape              Param #   \n",
      "=================================================================\n",
      "dense_536 (Dense)            (None, 6200)              198400    \n",
      "_________________________________________________________________\n",
      "dense_537 (Dense)            (None, 31)                192231    \n",
      "=================================================================\n",
      "Total params: 390,631\n",
      "Trainable params: 390,631\n",
      "Non-trainable params: 0\n",
      "_________________________________________________________________\n"
     ]
    },
    {
     "data": {
      "text/plain": [
       "(None, 31)"
      ]
     },
     "execution_count": 9,
     "metadata": {},
     "output_type": "execute_result"
    }
   ],
   "source": [
    "model.summary()\n",
    "model.output_shape\n",
    "#model.layers[1].get_config()"
   ]
  },
  {
   "cell_type": "code",
   "execution_count": 34,
   "id": "f46d4642-65ad-477e-be50-7099f423423a",
   "metadata": {
    "tags": []
   },
   "outputs": [
    {
     "data": {
      "text/plain": [
       "<tensorflow.python.keras.callbacks.History at 0x21a2d226760>"
      ]
     },
     "execution_count": 34,
     "metadata": {},
     "output_type": "execute_result"
    }
   ],
   "source": [
    "model.compile(optimizer='adam',\n",
    "              loss=tf.keras.losses.MeanSquaredError(),\n",
    "              metrics=['accuracy'])\n",
    "\n",
    "log_dir = \"logs/fit/\" + datetime.datetime.now().strftime(\"%Y%m%d-%H%M%S\")\n",
    "tensorboard_callback = tf.keras.callbacks.TensorBoard(log_dir=log_dir, histogram_freq=1)\n",
    "\n",
    "model.fit(x=InputDataTrain_transformed, \n",
    "          y=OutputDataTrain_transformed, \n",
    "          epochs=1000,\n",
    "          batch_size = 300,\n",
    "          validation_data=(InputDataTest_transformed, OutputDataTest_transformed), \n",
    "          verbose = 0,\n",
    "          #callbacks=[tensorboard_callback]\n",
    "         )"
   ]
  },
  {
   "cell_type": "code",
   "execution_count": 35,
   "id": "a637ce61-ec4e-423d-98e1-c6d8f0376eb5",
   "metadata": {},
   "outputs": [
    {
     "name": "stdout",
     "output_type": "stream",
     "text": [
      "\n",
      " 1/63 [..............................] - ETA: 0s - loss: 6.9319e-06 - accuracy: 0.9688\n",
      "46/63 [====================>.........] - ETA: 0s - loss: 8.0435e-06 - accuracy: 0.9769\n",
      "63/63 [==============================] - 0s 1ms/step - loss: 3.1741e-05 - accuracy: 0.9148\n",
      "Test loss, Test acc: [3.174080848111771e-05, 0.9147557616233826]\n"
     ]
    }
   ],
   "source": [
    "results = model.evaluate(InputDataTest_transformed,OutputDataTest_transformed)\n",
    "print(\"Test loss, Test acc:\", results)"
   ]
  },
  {
   "cell_type": "code",
   "execution_count": 36,
   "id": "b5e82ac6",
   "metadata": {
    "tags": []
   },
   "outputs": [
    {
     "data": {
      "text/plain": [
       "<tensorflow.python.keras.callbacks.History at 0x21a2cd7d6d0>"
      ]
     },
     "execution_count": 36,
     "metadata": {},
     "output_type": "execute_result"
    }
   ],
   "source": [
    "\n",
    "log_dir = \"logs/fit/\" + datetime.datetime.now().strftime(\"%Y%m%d-%H%M%S\")\n",
    "tensorboard_callback = tf.keras.callbacks.TensorBoard(log_dir=log_dir, histogram_freq=1)\n",
    "\n",
    "model.fit(x=InputDataTrainS_transformed, \n",
    "          y=OutputDataTrainS_transformed, \n",
    "          epochs=1000,\n",
    "          batch_size = 100,\n",
    "          validation_data=(InputDataTestS_transformed, OutputDataTestS_transformed), \n",
    "          verbose = 0,\n",
    "          #callbacks=[tensorboard_callback]\n",
    "         )"
   ]
  },
  {
   "cell_type": "code",
   "execution_count": 37,
   "id": "0023f95a-85b5-444f-98b0-a55b6295033f",
   "metadata": {
    "tags": []
   },
   "outputs": [
    {
     "name": "stdout",
     "output_type": "stream",
     "text": [
      "\n",
      " 1/63 [..............................] - ETA: 0s - loss: 4.8996e-05 - accuracy: 0.8750\n",
      "52/63 [=======================>......] - ETA: 0s - loss: 7.0326e-05 - accuracy: 0.9147\n",
      "63/63 [==============================] - 0s 1ms/step - loss: 8.6866e-05 - accuracy: 0.8729\n",
      "Test loss, Test acc: [8.686613000463694e-05, 0.8728813529014587]\n"
     ]
    }
   ],
   "source": [
    "results = model.evaluate(InputDataTest_transformed,OutputDataTest_transformed)\n",
    "print(\"Test loss, Test acc:\", results)"
   ]
  },
  {
   "cell_type": "code",
   "execution_count": 38,
   "id": "ec5631fa-c8eb-488c-8707-9b46feba9753",
   "metadata": {},
   "outputs": [
    {
     "data": {
      "text/plain": [
       "<tensorflow.python.keras.callbacks.History at 0x21a2cd7d550>"
      ]
     },
     "execution_count": 38,
     "metadata": {},
     "output_type": "execute_result"
    }
   ],
   "source": [
    "model.fit(x=InputDataTrainL_transformed, \n",
    "          y=OutputDataTrainL_transformed, \n",
    "          epochs=1000,\n",
    "          batch_size = 1000,\n",
    "          validation_data=(InputDataTestL_transformed, OutputDataTestL_transformed), \n",
    "          verbose = 0,\n",
    "          #callbacks=[tensorboard_callback]\n",
    "         )"
   ]
  },
  {
   "cell_type": "code",
   "execution_count": 39,
   "id": "4119d525-751b-4556-ac09-e06eca02ff7e",
   "metadata": {},
   "outputs": [
    {
     "name": "stdout",
     "output_type": "stream",
     "text": [
      "\n",
      " 1/63 [..............................] - ETA: 0s - loss: 1.0218e-05 - accuracy: 0.9688\n",
      "45/63 [====================>.........] - ETA: 0s - loss: 1.1460e-05 - accuracy: 0.9750\n",
      "63/63 [==============================] - 0s 1ms/step - loss: 2.7093e-05 - accuracy: 0.9282\n",
      "Test loss, Test acc: [2.7093021344626322e-05, 0.9282153248786926]\n"
     ]
    }
   ],
   "source": [
    "results = model.evaluate(InputDataTest_transformed,OutputDataTest_transformed)\n",
    "print(\"Test loss, Test acc:\", results)\n"
   ]
  },
  {
   "cell_type": "code",
   "execution_count": null,
   "id": "0ca017ff",
   "metadata": {
    "tags": []
   },
   "outputs": [],
   "source": [
    "# %tensorboard --logdir logs --host localhost --port 6003"
   ]
  },
  {
   "cell_type": "code",
   "execution_count": 65,
   "id": "051ab534-36c5-43e8-9f58-2e1560ee5d4b",
   "metadata": {},
   "outputs": [],
   "source": [
    "#InputDataTestL[4006:4007]"
   ]
  },
  {
   "cell_type": "code",
   "execution_count": 66,
   "id": "2df3dc7e-0d34-4ff9-86eb-365d132aa45d",
   "metadata": {
    "tags": []
   },
   "outputs": [
    {
     "name": "stdout",
     "output_type": "stream",
     "text": [
      "0.041986942291259766\n",
      "predictions shape: (1, 31)\n",
      "InputDataTest: [[1. 1. 0. 0. 1. 0. 0. 1. 1. 1. 1. 1. 0. 0. 0. 0. 0. 0. 1. 0. 0. 1. 0. 0.\n",
      "  0. 0. 1. 1. 1. 0. 1.]]\n",
      "InputDataTest in db (Command Gains) [[ 12.  12. -12. -12.  12. -12. -12.  12.  12.  12.  12.  12. -12. -12.\n",
      "  -12. -12. -12. -12.  12. -12. -12.  12. -12. -12. -12. -12.  12.  12.\n",
      "   12. -12.  12.]]\n",
      "OutputDataTest: [[0.71927412 0.78904234 0.18535851 0.21602521 0.99362233 0.21163324\n",
      "  0.18057789 0.78582691 0.6042948  0.60405591 0.60771794 0.79499388\n",
      "  0.20244358 0.38880652 0.39039324 0.38950383 0.37881247 0.21590648\n",
      "  0.99441074 0.2005424  0.20221791 0.98903036 0.2180508  0.37573703\n",
      "  0.38219919 0.20263038 0.78937167 0.62962942 0.79625298 0.01763513\n",
      "  0.99959126]]\n",
      "Predictions: [[0.28759596 0.40088192 0.3967362  0.40270257 0.40088028 0.40567118\n",
      "  0.40326497 0.4018167  0.40026242 0.40208307 0.40340424 0.40363395\n",
      "  0.4019183  0.40391526 0.40453428 0.4047367  0.40207678 0.4000545\n",
      "  0.40041155 0.40072602 0.40612817 0.40310067 0.40727827 0.4025034\n",
      "  0.40753487 0.40613624 0.40395814 0.39582375 0.39237273 0.36536348\n",
      "  0.08883727]]\n",
      "OutputDataTest in dB: [[  8.74279181  15.7245774  -17.21226772 -15.74631828  27.08852758\n",
      "  -15.83912837 -17.36770153  15.71107831   5.84547761   5.7646866\n",
      "    5.7768189   16.19158876 -16.40301415  -6.04993367  -6.00657211\n",
      "   -5.9924742   -6.65718687 -15.76735099  26.9496827  -16.44684513\n",
      "  -16.58418951  27.16333243 -15.58595087  -6.90956253  -6.5116751\n",
      "  -16.38693258  15.43040957   6.82579794  15.20090983 -22.04308053\n",
      "   14.23090184]]\n",
      "predictions in dB [[ -8.456102   -5.4190803  -5.6536045  -5.4606066  -5.4669585  -5.219105\n",
      "   -5.184448   -5.3555365  -5.3513007  -5.262789   -5.4581194  -5.2279825\n",
      "   -5.446238   -5.22248    -5.2271986  -5.1627736  -5.377262   -5.580415\n",
      "   -5.423971   -5.4500527  -5.354312   -5.38061    -5.1455264  -5.4231973\n",
      "   -5.1189356  -5.2023735  -5.136011   -5.5074897  -5.4983063  -6.1524754\n",
      "  -11.712157 ]]\n",
      "OutputDataTest in dB: [[ -8.54756824  -5.41031439  -5.56973699  -5.41380463  -5.41011474\n",
      "   -5.37959234  -5.3733833   -5.36377627  -5.36578826  -5.35705898\n",
      "   -5.35691457  -5.36065087  -5.35875178  -5.35368344  -5.35432268\n",
      "   -5.35397676  -5.34778188  -5.34941951  -5.33385437  -5.32980917\n",
      "   -5.32248385  -5.29795978  -5.27435713  -5.23611923  -5.29236446\n",
      "   -5.21732054  -5.28023523  -5.36028977  -5.39960453  -6.27685\n",
      "  -11.80005728]]\n",
      "predictions in dB [[ -8.456102   -5.4190803  -5.6536045  -5.4606066  -5.4669585  -5.219105\n",
      "   -5.184448   -5.3555365  -5.3513007  -5.262789   -5.4581194  -5.2279825\n",
      "   -5.446238   -5.22248    -5.2271986  -5.1627736  -5.377262   -5.580415\n",
      "   -5.423971   -5.4500527  -5.354312   -5.38061    -5.1455264  -5.4231973\n",
      "   -5.1189356  -5.2023735  -5.136011   -5.5074897  -5.4983063  -6.1524754\n",
      "  -11.712157 ]]\n",
      "Diff: [[ 17.19889418  21.14365766 -11.55866321 -10.28571171  32.5554861\n",
      "  -10.62002361 -12.18325376  21.06661477  11.19677833  11.02747537\n",
      "   11.23493829  21.41957128 -10.95677611  -0.82745385  -0.77937351\n",
      "   -0.82970059  -1.27992475 -10.18693622  32.37365388 -10.99679239\n",
      "  -11.22987757  32.54394242 -10.44042447  -1.48636526  -1.39273952\n",
      "  -11.18455908  20.56642069  12.33328762  20.69921611 -15.89060517\n",
      "   25.94305908]]\n"
     ]
    }
   ],
   "source": [
    "first = 1800\n",
    "second = 1801\n",
    "start = time.time()\n",
    "#predictions = model.predict(InputDataTest_transformed[first:second])\n",
    "predictions = model.predict(InputDataTestL_transformed[4007:4008])\n",
    "end = time.time()\n",
    "print(end - start)\n",
    "print(\"predictions shape:\", predictions.shape)\n",
    "print(\"InputDataTest:\",InputDataTest_transformed[first:second])\n",
    "print(\"InputDataTest in db (Command Gains)\", InputDataTest_retransformed[first:second])\n",
    "print(\"OutputDataTest:\",OutputDataTest_transformed[first:second])\n",
    "print(\"Predictions:\",predictions)\n",
    "\n",
    "print(\"OutputDataTest in dB:\",scaler.inverse_transform(OutputDataTest_transformed[first:second]))\n",
    "print(\"predictions in dB\",scaler.inverse_transform(predictions))\n",
    "print(\"OutputDataTest in dB:\",scaler.inverse_transform(OutputDataTestL_transformed[4007:4008]))\n",
    "print(\"predictions in dB\",scaler.inverse_transform(predictions))\n",
    "\n",
    "print(\"Diff:\", scaler.inverse_transform(OutputDataTest_transformed[first:second])-scaler.inverse_transform(predictions))"
   ]
  },
  {
   "cell_type": "code",
   "execution_count": 47,
   "id": "d93de5b8-4ac3-4751-bc43-0c77ba89a06f",
   "metadata": {},
   "outputs": [
    {
     "data": {
      "text/plain": [
       "(None, 31)"
      ]
     },
     "execution_count": 47,
     "metadata": {},
     "output_type": "execute_result"
    }
   ],
   "source": [
    "model.output_shape"
   ]
  },
  {
   "cell_type": "code",
   "execution_count": 9,
   "id": "6fff2461-d96e-4c20-bffd-9fac9608efe3",
   "metadata": {
    "tags": []
   },
   "outputs": [
    {
     "name": "stderr",
     "output_type": "stream",
     "text": [
      "C:/Users/Robert/AppData/Local/Temp/xpython_12460/2936004681.py:57: FutureWarning: `rcond` parameter will change to the default of machine precision times ``max(M, N)`` where M and N are the input matrix dimensions.\n",
      "To use the future default and silence this warning we advise to pass `rcond=None`, to keep using the old, explicitly pass `rcond=-1`.\n",
      "  Gopt_db = np.linalg.lstsq(leak.conj().T, G_db2)[0]\n",
      "C:/Users/Robert/AppData/Local/Temp/xpython_12460/4126492185.py:34: VisibleDeprecationWarning: Creating an ndarray from ragged nested sequences (which is a list-or-tuple of lists-or-tuples-or ndarrays with different lengths or shapes) is deprecated. If you meant to do this, you must specify 'dtype=object' when creating the ndarray\n",
      "  num = np.array([(1+G*beta), -2*cos(w0), (1-G*beta)]/(1+beta))\n",
      "C:/Users/Robert/AppData/Local/Temp/xpython_12460/4126492185.py:35: VisibleDeprecationWarning: Creating an ndarray from ragged nested sequences (which is a list-or-tuple of lists-or-tuples-or ndarrays with different lengths or shapes) is deprecated. If you meant to do this, you must specify 'dtype=object' when creating the ndarray\n",
      "  den = np.array([1, -2*cos(w0)/(1+beta), (1-beta)/(1+beta)])\n",
      "C:/Users/Robert/AppData/Local/Temp/xpython_12460/2936004681.py:61: FutureWarning: `rcond` parameter will change to the default of machine precision times ``max(M, N)`` where M and N are the input matrix dimensions.\n",
      "To use the future default and silence this warning we advise to pass `rcond=None`, to keep using the old, explicitly pass `rcond=-1`.\n",
      "  G2opt_db = np.linalg.lstsq(leak2.conj().T, G_db2)[0] #filter gains\n",
      "C:/Users/Robert/AppData/Local/Temp/xpython_12460/2936004681.py:77: FutureWarning: `rcond` parameter will change to the default of machine precision times ``max(M, N)`` where M and N are the input matrix dimensions.\n",
      "To use the future default and silence this warning we advise to pass `rcond=None`, to keep using the old, explicitly pass `rcond=-1`.\n",
      "  g1 = np.linalg.lstsq(B.conj().T, G_db2)[0]\n",
      "C:/Users/Robert/AppData/Local/Temp/xpython_12460/2622797623.py:75: VisibleDeprecationWarning: Creating an ndarray from ragged nested sequences (which is a list-or-tuple of lists-or-tuples-or ndarrays with different lengths or shapes) is deprecated. If you meant to do this, you must specify 'dtype=object' when creating the ndarray\n",
      "  den = np.array([1, (-2*(1-W2))/(1+W2+A), (1+W2-A)/(1+W2+A)])\n",
      "C:/Users/Robert/AppData/Local/Temp/xpython_12460/2936004681.py:80: FutureWarning: `rcond` parameter will change to the default of machine precision times ``max(M, N)`` where M and N are the input matrix dimensions.\n",
      "To use the future default and silence this warning we advise to pass `rcond=None`, to keep using the old, explicitly pass `rcond=-1`.\n",
      "  G3opt_db = np.linalg.lstsq(leakSGE3.conj().T, G_db2)[0]\n",
      "C:/Users/Robert/AppData/Local/Temp/xpython_12460/302963976.py:56: VisibleDeprecationWarning: Creating an ndarray from ragged nested sequences (which is a list-or-tuple of lists-or-tuples-or ndarrays with different lengths or shapes) is deprecated. If you meant to do this, you must specify 'dtype=object' when creating the ndarray\n",
      "  den = np.array([1, (-2*(1-W2))/(1+W2+A), (1+W2-A)/(1+W2+A)])\n",
      "C:/Users/Robert/AppData/Local/Temp/xpython_12460/4126492185.py:34: VisibleDeprecationWarning: Creating an ndarray from ragged nested sequences (which is a list-or-tuple of lists-or-tuples-or ndarrays with different lengths or shapes) is deprecated. If you meant to do this, you must specify 'dtype=object' when creating the ndarray\n",
      "  num = np.array([(1+G*beta), -2*cos(w0), (1-G*beta)]/(1+beta))\n",
      "C:/Users/Robert/AppData/Local/Temp/xpython_12460/4126492185.py:35: VisibleDeprecationWarning: Creating an ndarray from ragged nested sequences (which is a list-or-tuple of lists-or-tuples-or ndarrays with different lengths or shapes) is deprecated. If you meant to do this, you must specify 'dtype=object' when creating the ndarray\n",
      "  den = np.array([1, -2*cos(w0)/(1+beta), (1-beta)/(1+beta)])\n"
     ]
    }
   ],
   "source": [
    "%run Code.ipynb"
   ]
  },
  {
   "cell_type": "code",
   "execution_count": 63,
   "id": "61418cd9-4702-4569-9fed-77dec144822e",
   "metadata": {
    "tags": []
   },
   "outputs": [],
   "source": [
    "commandGains = InputDataTest_retransformed[first:second].reshape((31,1)) \n",
    "commandGains = InputDataTestL_retransformed[4007:4008].reshape((31,1)) \n",
    "#print(commandGains)\n",
    "filterGainsPredicted = scaler.inverse_transform(predictions).reshape((31,1)) \n",
    "#print(filterGainsPredicted)"
   ]
  },
  {
   "cell_type": "code",
   "execution_count": 64,
   "id": "fc43973c-59f1-4a54-bfaa-634bb5e301db",
   "metadata": {
    "tags": []
   },
   "outputs": [
    {
     "name": "stderr",
     "output_type": "stream",
     "text": [
      "C:/Users/Robert/AppData/Local/Temp/xpython_12460/2936004681.py:57: FutureWarning: `rcond` parameter will change to the default of machine precision times ``max(M, N)`` where M and N are the input matrix dimensions.\n",
      "To use the future default and silence this warning we advise to pass `rcond=None`, to keep using the old, explicitly pass `rcond=-1`.\n",
      "  Gopt_db = np.linalg.lstsq(leak.conj().T, G_db2)[0]\n",
      "C:/Users/Robert/AppData/Local/Temp/xpython_12460/4126492185.py:34: VisibleDeprecationWarning: Creating an ndarray from ragged nested sequences (which is a list-or-tuple of lists-or-tuples-or ndarrays with different lengths or shapes) is deprecated. If you meant to do this, you must specify 'dtype=object' when creating the ndarray\n",
      "  num = np.array([(1+G*beta), -2*cos(w0), (1-G*beta)]/(1+beta))\n",
      "C:/Users/Robert/AppData/Local/Temp/xpython_12460/4126492185.py:35: VisibleDeprecationWarning: Creating an ndarray from ragged nested sequences (which is a list-or-tuple of lists-or-tuples-or ndarrays with different lengths or shapes) is deprecated. If you meant to do this, you must specify 'dtype=object' when creating the ndarray\n",
      "  den = np.array([1, -2*cos(w0)/(1+beta), (1-beta)/(1+beta)])\n",
      "C:/Users/Robert/AppData/Local/Temp/xpython_12460/2936004681.py:61: FutureWarning: `rcond` parameter will change to the default of machine precision times ``max(M, N)`` where M and N are the input matrix dimensions.\n",
      "To use the future default and silence this warning we advise to pass `rcond=None`, to keep using the old, explicitly pass `rcond=-1`.\n",
      "  G2opt_db = np.linalg.lstsq(leak2.conj().T, G_db2)[0] #filter gains\n",
      "C:/Users/Robert/AppData/Local/Temp/xpython_12460/2936004681.py:77: FutureWarning: `rcond` parameter will change to the default of machine precision times ``max(M, N)`` where M and N are the input matrix dimensions.\n",
      "To use the future default and silence this warning we advise to pass `rcond=None`, to keep using the old, explicitly pass `rcond=-1`.\n",
      "  g1 = np.linalg.lstsq(B.conj().T, G_db2)[0]\n",
      "C:/Users/Robert/AppData/Local/Temp/xpython_12460/2622797623.py:75: VisibleDeprecationWarning: Creating an ndarray from ragged nested sequences (which is a list-or-tuple of lists-or-tuples-or ndarrays with different lengths or shapes) is deprecated. If you meant to do this, you must specify 'dtype=object' when creating the ndarray\n",
      "  den = np.array([1, (-2*(1-W2))/(1+W2+A), (1+W2-A)/(1+W2+A)])\n",
      "C:/Users/Robert/AppData/Local/Temp/xpython_12460/2936004681.py:80: FutureWarning: `rcond` parameter will change to the default of machine precision times ``max(M, N)`` where M and N are the input matrix dimensions.\n",
      "To use the future default and silence this warning we advise to pass `rcond=None`, to keep using the old, explicitly pass `rcond=-1`.\n",
      "  G3opt_db = np.linalg.lstsq(leakSGE3.conj().T, G_db2)[0]\n",
      "C:/Users/Robert/AppData/Local/Temp/xpython_12460/302963976.py:56: VisibleDeprecationWarning: Creating an ndarray from ragged nested sequences (which is a list-or-tuple of lists-or-tuples-or ndarrays with different lengths or shapes) is deprecated. If you meant to do this, you must specify 'dtype=object' when creating the ndarray\n",
      "  den = np.array([1, (-2*(1-W2))/(1+W2+A), (1+W2-A)/(1+W2+A)])\n",
      "C:/Users/Robert/AppData/Local/Temp/xpython_12460/4126492185.py:34: VisibleDeprecationWarning: Creating an ndarray from ragged nested sequences (which is a list-or-tuple of lists-or-tuples-or ndarrays with different lengths or shapes) is deprecated. If you meant to do this, you must specify 'dtype=object' when creating the ndarray\n",
      "  num = np.array([(1+G*beta), -2*cos(w0), (1-G*beta)]/(1+beta))\n",
      "C:/Users/Robert/AppData/Local/Temp/xpython_12460/4126492185.py:35: VisibleDeprecationWarning: Creating an ndarray from ragged nested sequences (which is a list-or-tuple of lists-or-tuples-or ndarrays with different lengths or shapes) is deprecated. If you meant to do this, you must specify 'dtype=object' when creating the ndarray\n",
      "  den = np.array([1, -2*cos(w0)/(1+beta), (1-beta)/(1+beta)])\n"
     ]
    }
   ],
   "source": [
    "thirdOctaveGEQwithPredictions(commandGains,filterGainsPredicted)"
   ]
  },
  {
   "cell_type": "code",
   "execution_count": 14,
   "id": "e6b46bc9-ee07-4431-8b0c-c9f49d2a0f91",
   "metadata": {},
   "outputs": [],
   "source": [
    "#model.save(\"Models/Model\")"
   ]
  },
  {
   "cell_type": "code",
   "execution_count": 45,
   "id": "c01661ee-16ee-43d7-bb72-9c29e302f0ea",
   "metadata": {},
   "outputs": [],
   "source": [
    "model = tf.keras.models.load_model(\"Models/Model\")"
   ]
  },
  {
   "cell_type": "code",
   "execution_count": 14,
   "id": "9dc1ab02-c3b1-41c7-8b36-d54b0a71e7b5",
   "metadata": {},
   "outputs": [
    {
     "ename": "NameError",
     "evalue": "name 'first' is not defined",
     "output_type": "error",
     "traceback": [
      "\u001b[0;31m---------------------------------------------------------------------------\u001b[0m\n\u001b[0;31mNameError\u001b[0m                                 Traceback (most recent call last)",
      "File \u001b[0;34mC:\\Users\\Robert\\anaconda3\\envs\\ml\\lib\\site-packages\\IPython\\core\\interactiveshell.py\u001b[0m, in \u001b[0;32mrun_code\u001b[0m:\nLine \u001b[0;34m3437\u001b[0m:  exec(code_obj, \u001b[36mself\u001b[39;49;00m.user_global_ns, \u001b[36mself\u001b[39;49;00m.user_ns)\n",
      "In  \u001b[0;34m[14]\u001b[0m:\nLine \u001b[0;34m1\u001b[0m:     predictions_load = model_load.predict(InputDataTest_transformed[first:second])\n",
      "\u001b[0;31mNameError\u001b[0m: name 'first' is not defined\n\u001b[0;31m---------------------------------------------------------------------------\u001b[0m"
     ]
    }
   ],
   "source": [
    "predictions_load = model_load.predict(InputDataTest_transformed[first:second])"
   ]
  },
  {
   "cell_type": "code",
   "execution_count": 30,
   "id": "08cfe91e-60d7-4035-a170-f5a4e93782e6",
   "metadata": {},
   "outputs": [
    {
     "name": "stdout",
     "output_type": "stream",
     "text": [
      "50.9814453125\n"
     ]
    }
   ],
   "source": [
    "start = time.time()*1000\n",
    "for i in range(1):\n",
    "    predictions_load = model_load.predict(InputDataTest_transformed[first:second])\n",
    "    \n",
    "end = time.time()*1000\n",
    "print(end - start)"
   ]
  },
  {
   "cell_type": "code",
   "execution_count": 72,
   "id": "7ca3b79c-6256-42f1-8656-dbc8aea77564",
   "metadata": {},
   "outputs": [
    {
     "name": "stdout",
     "output_type": "stream",
     "text": [
      "3628.62109375\n"
     ]
    }
   ],
   "source": [
    "start = time.time()*1000\n",
    "for i in range(100):\n",
    "    predictions_load = model.predict(InputDataTest_transformed[first:second])\n",
    "    \n",
    "end = time.time()*1000\n",
    "print(end - start)"
   ]
  },
  {
   "cell_type": "code",
   "execution_count": 73,
   "id": "88c69b16-86d1-4fe3-a2c1-c7169438df4e",
   "metadata": {},
   "outputs": [
    {
     "data": {
      "text/plain": [
       "array([[0.95552653, 0.01717946, 0.9753712 , 0.23048931, 0.36160302,\n",
       "        0.21802326, 0.9815725 , 0.20328674, 0.21433987, 0.97285426,\n",
       "        0.01037176, 0.77131665, 0.62116945, 0.7872682 , 0.2096115 ,\n",
       "        0.2113091 , 0.79348993, 0.62303555, 0.78559655, 0.00301883,\n",
       "        0.780452  , 0.62151444, 0.61618125, 0.79255044, 0.20644717,\n",
       "        0.2096918 , 0.7820731 , 0.6277895 , 0.79709864, 0.01824743,\n",
       "        0.9954647 ]], dtype=float32)"
      ]
     },
     "execution_count": 73,
     "metadata": {},
     "output_type": "execute_result"
    }
   ],
   "source": [
    "predictions_load"
   ]
  },
  {
   "cell_type": "code",
   "execution_count": 80,
   "id": "542f735b-7a8c-4f0a-ad5c-263df6271197",
   "metadata": {},
   "outputs": [
    {
     "name": "stdout",
     "output_type": "stream",
     "text": [
      "79.97119140625\n"
     ]
    }
   ],
   "source": [
    "start = time.time()*1000\n",
    "for i in range(100):\n",
    "    prediction_new = model(InputDataTest_transformed[first:second])\n",
    "    pnew_retrans = scaler.inverse_transform(prediction_new).reshape((31,1)) \n",
    "    end = time.time()*1000\n",
    "print(end - start)"
   ]
  },
  {
   "cell_type": "code",
   "execution_count": 6,
   "id": "46adcb4f-b1db-4fbb-8b1f-1766d1fce65d",
   "metadata": {},
   "outputs": [
    {
     "ename": "NameError",
     "evalue": "name 'pnew_retrans' is not defined",
     "output_type": "error",
     "traceback": [
      "\u001b[0;31m---------------------------------------------------------------------------\u001b[0m\n\u001b[0;31mNameError\u001b[0m                                 Traceback (most recent call last)",
      "File \u001b[0;34mC:\\Users\\Robert\\anaconda3\\envs\\ml\\lib\\site-packages\\IPython\\core\\interactiveshell.py\u001b[0m, in \u001b[0;32mrun_code\u001b[0m:\nLine \u001b[0;34m3437\u001b[0m:  exec(code_obj, \u001b[36mself\u001b[39;49;00m.user_global_ns, \u001b[36mself\u001b[39;49;00m.user_ns)\n",
      "In  \u001b[0;34m[6]\u001b[0m:\nLine \u001b[0;34m1\u001b[0m:     pnew_retrans\n",
      "\u001b[0;31mNameError\u001b[0m: name 'pnew_retrans' is not defined\n\u001b[0;31m---------------------------------------------------------------------------\u001b[0m"
     ]
    }
   ],
   "source": [
    "pnew_retrans"
   ]
  },
  {
   "cell_type": "code",
   "execution_count": 22,
   "id": "7f2e0bc2-f8c5-401c-bd29-ec17105e4f99",
   "metadata": {},
   "outputs": [],
   "source": [
    "a1 = np.array([12,12,12,12,12,12,12,12,12,12,12,12,12,12,12,12,12,12,12,12,12,12,12,12,12,12,12,12,12,12,12]).reshape(31,1)    \n",
    "a2 = np.array([-12,-12,-12,-12,-12,-12,-12,-12,-12,-12,-12,-12,-12,-12,-12,-12,-12,-12,-12,-12,-12,-12,-12,-12,-12,-12,-12,-12,-12,-12,-12]).reshape(31,1)    \n",
    "a3 = np.array([12,-12,12,-12,12,-12,12,-12,12,-12,12,-12,12,-12,12,-12,12,-12,12,-12,12,-12,12,-12,12,-12,12,-12,12,-12,12]).reshape(31,1)\n",
    "a4 = np.array([-12,12,-12,12,-12,12,-12,12,-12,12,-12,12,-12,12,-12,12,-12,12,-12,12,-12,12,-12,12,-12,12,-12,12,-12,12,-12]).reshape(31,1)  \n",
    "a5 = np.array([12,-12,-12,-12,12,12,12,-12,-12,-12,12,12,12,-12,-12,-12,12,12,12,-12,-12,-12,12,12,12,-12,-12,-12,12,12,12]).reshape(31,1)  \n",
    "a6 = np.array([-12,12,12,12,-12,-12,-12,12,12,12,-12,-12,-12,12,12,12,-12,-12,-12,12,12,12,-12,-12,-12,12,12,12,-12,-12,-12]).reshape(31,1)  \n",
    "\n",
    "a = np.array([[a1],[a2],[a3],[a4],[a5],[a6]]).reshape(6,31)"
   ]
  },
  {
   "cell_type": "code",
   "execution_count": 23,
   "id": "4cc7226a-2369-486b-a84d-21f963f5e001",
   "metadata": {},
   "outputs": [],
   "source": [
    "at = scaler.fit_transform(a)"
   ]
  },
  {
   "cell_type": "code",
   "execution_count": 33,
   "id": "d62134d7-f728-49e8-9f3f-89d7cc1a0dc1",
   "metadata": {},
   "outputs": [],
   "source": [
    "commandGains = a3\n",
    "ap = model.predict(at[2:3])\n",
    "filterGainsPredicted = scaler.inverse_transform(ap).reshape((31,1)) "
   ]
  },
  {
   "cell_type": "code",
   "execution_count": 34,
   "id": "b2c26baf-05ed-4210-a2cc-0d7e32ce89e0",
   "metadata": {},
   "outputs": [
    {
     "name": "stderr",
     "output_type": "stream",
     "text": [
      "C:/Users/Robert/AppData/Local/Temp/xpython_11480/2936004681.py:57: FutureWarning: `rcond` parameter will change to the default of machine precision times ``max(M, N)`` where M and N are the input matrix dimensions.\n",
      "To use the future default and silence this warning we advise to pass `rcond=None`, to keep using the old, explicitly pass `rcond=-1`.\n",
      "  Gopt_db = np.linalg.lstsq(leak.conj().T, G_db2)[0]\n",
      "C:/Users/Robert/AppData/Local/Temp/xpython_11480/4126492185.py:34: VisibleDeprecationWarning: Creating an ndarray from ragged nested sequences (which is a list-or-tuple of lists-or-tuples-or ndarrays with different lengths or shapes) is deprecated. If you meant to do this, you must specify 'dtype=object' when creating the ndarray\n",
      "  num = np.array([(1+G*beta), -2*cos(w0), (1-G*beta)]/(1+beta))\n",
      "C:/Users/Robert/AppData/Local/Temp/xpython_11480/4126492185.py:35: VisibleDeprecationWarning: Creating an ndarray from ragged nested sequences (which is a list-or-tuple of lists-or-tuples-or ndarrays with different lengths or shapes) is deprecated. If you meant to do this, you must specify 'dtype=object' when creating the ndarray\n",
      "  den = np.array([1, -2*cos(w0)/(1+beta), (1-beta)/(1+beta)])\n",
      "C:/Users/Robert/AppData/Local/Temp/xpython_11480/2936004681.py:61: FutureWarning: `rcond` parameter will change to the default of machine precision times ``max(M, N)`` where M and N are the input matrix dimensions.\n",
      "To use the future default and silence this warning we advise to pass `rcond=None`, to keep using the old, explicitly pass `rcond=-1`.\n",
      "  G2opt_db = np.linalg.lstsq(leak2.conj().T, G_db2)[0] #filter gains\n",
      "C:/Users/Robert/AppData/Local/Temp/xpython_11480/2936004681.py:77: FutureWarning: `rcond` parameter will change to the default of machine precision times ``max(M, N)`` where M and N are the input matrix dimensions.\n",
      "To use the future default and silence this warning we advise to pass `rcond=None`, to keep using the old, explicitly pass `rcond=-1`.\n",
      "  g1 = np.linalg.lstsq(B.conj().T, G_db2)[0]\n",
      "C:/Users/Robert/AppData/Local/Temp/xpython_11480/2622797623.py:75: VisibleDeprecationWarning: Creating an ndarray from ragged nested sequences (which is a list-or-tuple of lists-or-tuples-or ndarrays with different lengths or shapes) is deprecated. If you meant to do this, you must specify 'dtype=object' when creating the ndarray\n",
      "  den = np.array([1, (-2*(1-W2))/(1+W2+A), (1+W2-A)/(1+W2+A)])\n",
      "C:/Users/Robert/AppData/Local/Temp/xpython_11480/2936004681.py:80: FutureWarning: `rcond` parameter will change to the default of machine precision times ``max(M, N)`` where M and N are the input matrix dimensions.\n",
      "To use the future default and silence this warning we advise to pass `rcond=None`, to keep using the old, explicitly pass `rcond=-1`.\n",
      "  G3opt_db = np.linalg.lstsq(leakSGE3.conj().T, G_db2)[0]\n",
      "C:/Users/Robert/AppData/Local/Temp/xpython_11480/302963976.py:56: VisibleDeprecationWarning: Creating an ndarray from ragged nested sequences (which is a list-or-tuple of lists-or-tuples-or ndarrays with different lengths or shapes) is deprecated. If you meant to do this, you must specify 'dtype=object' when creating the ndarray\n",
      "  den = np.array([1, (-2*(1-W2))/(1+W2+A), (1+W2-A)/(1+W2+A)])\n",
      "C:/Users/Robert/AppData/Local/Temp/xpython_11480/4126492185.py:34: VisibleDeprecationWarning: Creating an ndarray from ragged nested sequences (which is a list-or-tuple of lists-or-tuples-or ndarrays with different lengths or shapes) is deprecated. If you meant to do this, you must specify 'dtype=object' when creating the ndarray\n",
      "  num = np.array([(1+G*beta), -2*cos(w0), (1-G*beta)]/(1+beta))\n",
      "C:/Users/Robert/AppData/Local/Temp/xpython_11480/4126492185.py:35: VisibleDeprecationWarning: Creating an ndarray from ragged nested sequences (which is a list-or-tuple of lists-or-tuples-or ndarrays with different lengths or shapes) is deprecated. If you meant to do this, you must specify 'dtype=object' when creating the ndarray\n",
      "  den = np.array([1, -2*cos(w0)/(1+beta), (1-beta)/(1+beta)])\n"
     ]
    }
   ],
   "source": [
    "thirdOctaveGEQwithPredictions(commandGains,filterGainsPredicted)"
   ]
  },
  {
   "cell_type": "code",
   "execution_count": null,
   "id": "cbe6fce5-f377-4599-8c93-9799bf188960",
   "metadata": {},
   "outputs": [],
   "source": []
  }
 ],
 "metadata": {
  "kernelspec": {
   "display_name": "Python 3.8 (XPython)",
   "language": "python",
   "name": "xpython"
  },
  "language_info": {
   "file_extension": ".py",
   "mimetype": "text/x-python",
   "name": "python",
   "version": "3.8.8"
  }
 },
 "nbformat": 4,
 "nbformat_minor": 5
}
